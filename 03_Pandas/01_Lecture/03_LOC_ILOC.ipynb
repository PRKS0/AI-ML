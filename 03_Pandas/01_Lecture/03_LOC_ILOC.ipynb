{
 "cells": [
  {
   "cell_type": "markdown",
   "id": "25efa97d",
   "metadata": {},
   "source": [
    "### Pandas Revision "
   ]
  },
  {
   "cell_type": "code",
   "execution_count": 3,
   "id": "0cbc24d5",
   "metadata": {},
   "outputs": [],
   "source": [
    "import numpy as np\n",
    "import pandas as pd"
   ]
  },
  {
   "cell_type": "code",
   "execution_count": 4,
   "id": "4e94cc15",
   "metadata": {},
   "outputs": [
    {
     "data": {
      "text/html": [
       "<div>\n",
       "<style scoped>\n",
       "    .dataframe tbody tr th:only-of-type {\n",
       "        vertical-align: middle;\n",
       "    }\n",
       "\n",
       "    .dataframe tbody tr th {\n",
       "        vertical-align: top;\n",
       "    }\n",
       "\n",
       "    .dataframe thead th {\n",
       "        text-align: right;\n",
       "    }\n",
       "</style>\n",
       "<table border=\"1\" class=\"dataframe\">\n",
       "  <thead>\n",
       "    <tr style=\"text-align: right;\">\n",
       "      <th></th>\n",
       "      <th>R-num</th>\n",
       "      <th>even</th>\n",
       "      <th>odd</th>\n",
       "      <th>prime</th>\n",
       "      <th>square</th>\n",
       "    </tr>\n",
       "  </thead>\n",
       "  <tbody>\n",
       "    <tr>\n",
       "      <th>num1</th>\n",
       "      <td>1</td>\n",
       "      <td>2</td>\n",
       "      <td>1</td>\n",
       "      <td>2</td>\n",
       "      <td>1</td>\n",
       "    </tr>\n",
       "    <tr>\n",
       "      <th>num2</th>\n",
       "      <td>2</td>\n",
       "      <td>4</td>\n",
       "      <td>3</td>\n",
       "      <td>3</td>\n",
       "      <td>4</td>\n",
       "    </tr>\n",
       "    <tr>\n",
       "      <th>num3</th>\n",
       "      <td>3</td>\n",
       "      <td>6</td>\n",
       "      <td>5</td>\n",
       "      <td>5</td>\n",
       "      <td>9</td>\n",
       "    </tr>\n",
       "    <tr>\n",
       "      <th>num4</th>\n",
       "      <td>4</td>\n",
       "      <td>8</td>\n",
       "      <td>7</td>\n",
       "      <td>7</td>\n",
       "      <td>16</td>\n",
       "    </tr>\n",
       "    <tr>\n",
       "      <th>num5</th>\n",
       "      <td>5</td>\n",
       "      <td>10</td>\n",
       "      <td>9</td>\n",
       "      <td>11</td>\n",
       "      <td>25</td>\n",
       "    </tr>\n",
       "  </tbody>\n",
       "</table>\n",
       "</div>"
      ],
      "text/plain": [
       "      R-num  even  odd  prime  square\n",
       "num1      1     2    1      2       1\n",
       "num2      2     4    3      3       4\n",
       "num3      3     6    5      5       9\n",
       "num4      4     8    7      7      16\n",
       "num5      5    10    9     11      25"
      ]
     },
     "execution_count": 4,
     "metadata": {},
     "output_type": "execute_result"
    }
   ],
   "source": [
    "num_data = np.array([[1, 2, 3, 4, 5], [2, 4, 6, 8, 10], [1, 3, 5, 7, 9], [2, 3, 5, 7, 11], [1, 4, 9, 16, 25]])\n",
    "num = num_data.T\n",
    "num_col = ['R-num', 'even', 'odd', 'prime', 'square']\n",
    "num_index = ['num1', 'num2', 'num3', 'num4', 'num5']\n",
    "\n",
    "df = pd.DataFrame(num, columns=num_col, index=num_index)\n",
    "df"
   ]
  },
  {
   "cell_type": "markdown",
   "id": "4d89025b",
   "metadata": {},
   "source": [
    "#### Accessing Column"
   ]
  },
  {
   "cell_type": "code",
   "execution_count": 5,
   "id": "4c9c0fba",
   "metadata": {},
   "outputs": [],
   "source": [
    "s_even = df['even']\n",
    "# series indexing: gives column (only one) in series format. we can access the elements of column like this ( df['even'][0] )\n",
    "# but not recommended, instead use loc/iloc   \n",
    "# also we can use df.even (column with no space)            \n",
    "\n",
    "d_even = df[['even', 'odd']]            \n",
    "# dataframe indexing: gives column in dataframe format. only use to access one or multiple column, \n",
    "# can't further access elements of column."
   ]
  },
  {
   "cell_type": "markdown",
   "id": "152a5b5b",
   "metadata": {},
   "source": [
    "### .loc[] - Label Based Indexing\n",
    "- Selects data based on the labels of your rows (index) and columns.\n",
    "- The row and column names you see when you print the DataFrame.\n",
    "- When slicing, both the start and stop labels are included."
   ]
  },
  {
   "cell_type": "code",
   "execution_count": 6,
   "id": "6b8c1523",
   "metadata": {},
   "outputs": [
    {
     "name": "stdout",
     "output_type": "stream",
     "text": [
      "Our Sample DataFrame:\n",
      "         Name  Age      City  Score\n",
      "id_A    Alice   25  New York     85\n",
      "id_B      Bob   30     Paris     90\n",
      "id_C  Charlie   35    London     78\n",
      "id_D    David   22    Berlin     92\n",
      "id_E      Eve   28     Tokyo     88\n",
      "------------------------------\n"
     ]
    }
   ],
   "source": [
    "data = {\n",
    "    'Name': ['Alice', 'Bob', 'Charlie', 'David', 'Eve'],\n",
    "    'Age': [25, 30, 35, 22, 28],\n",
    "    'City': ['New York', 'Paris', 'London', 'Berlin', 'Tokyo'],\n",
    "    'Score': [85, 90, 78, 92, 88]\n",
    "}\n",
    "\n",
    "df = pd.DataFrame(data=data, index=['id_A', 'id_B', 'id_C', 'id_D', 'id_E'])\n",
    "print(\"Our Sample DataFrame:\")\n",
    "print(df)\n",
    "print(\"-\" * 30)"
   ]
  },
  {
   "cell_type": "code",
   "execution_count": null,
   "id": "5efbdcff",
   "metadata": {},
   "outputs": [
    {
     "data": {
      "text/plain": [
       "'Bob'"
      ]
     },
     "execution_count": 10,
     "metadata": {},
     "output_type": "execute_result"
    }
   ],
   "source": [
    "# Label-Based Selection \n",
    "# general syntax: df.loc[row_indexer, column_indexer]\n",
    "# return row in series \n",
    "df.loc['id_B']                          # accessing row with index name\n",
    "df.loc['id_B']['Name']                  # accessing first element of the row (not recommended, use block 12's method)"
   ]
  },
  {
   "cell_type": "code",
   "execution_count": null,
   "id": "fad4e3cd",
   "metadata": {},
   "outputs": [],
   "source": [
    "# selecting multiple row with list of labels\n",
    "df.loc[['id_A', 'id_B', 'id_E']]        # since singe bracket gives series, so we need double bracket for multiple row\n",
    "\n",
    "# selecting a slice of rows by labels (inclusive)\n",
    "df.loc['id_B' : 'id_E']                 # select row from B to E (included). (in this case we don't need to inclose in double bracket)"
   ]
  },
  {
   "cell_type": "code",
   "execution_count": 24,
   "id": "53cf5659",
   "metadata": {},
   "outputs": [
    {
     "data": {
      "text/html": [
       "<div>\n",
       "<style scoped>\n",
       "    .dataframe tbody tr th:only-of-type {\n",
       "        vertical-align: middle;\n",
       "    }\n",
       "\n",
       "    .dataframe tbody tr th {\n",
       "        vertical-align: top;\n",
       "    }\n",
       "\n",
       "    .dataframe thead th {\n",
       "        text-align: right;\n",
       "    }\n",
       "</style>\n",
       "<table border=\"1\" class=\"dataframe\">\n",
       "  <thead>\n",
       "    <tr style=\"text-align: right;\">\n",
       "      <th></th>\n",
       "      <th>Name</th>\n",
       "      <th>Age</th>\n",
       "    </tr>\n",
       "  </thead>\n",
       "  <tbody>\n",
       "    <tr>\n",
       "      <th>id_A</th>\n",
       "      <td>Alice</td>\n",
       "      <td>25</td>\n",
       "    </tr>\n",
       "    <tr>\n",
       "      <th>id_B</th>\n",
       "      <td>Bob</td>\n",
       "      <td>30</td>\n",
       "    </tr>\n",
       "    <tr>\n",
       "      <th>id_C</th>\n",
       "      <td>Charlie</td>\n",
       "      <td>35</td>\n",
       "    </tr>\n",
       "    <tr>\n",
       "      <th>id_D</th>\n",
       "      <td>David</td>\n",
       "      <td>22</td>\n",
       "    </tr>\n",
       "    <tr>\n",
       "      <th>id_E</th>\n",
       "      <td>Eve</td>\n",
       "      <td>28</td>\n",
       "    </tr>\n",
       "  </tbody>\n",
       "</table>\n",
       "</div>"
      ],
      "text/plain": [
       "         Name  Age\n",
       "id_A    Alice   25\n",
       "id_B      Bob   30\n",
       "id_C  Charlie   35\n",
       "id_D    David   22\n",
       "id_E      Eve   28"
      ]
     },
     "execution_count": 24,
     "metadata": {},
     "output_type": "execute_result"
    }
   ],
   "source": [
    "# selecting single cell by row and column labels:\n",
    "df.loc['id_B', 'City']\n",
    "\n",
    "# what if we need to select specific column of two rows\n",
    "df.loc[['id_A', 'id_B'], ['Name', 'Score']]        \n",
    "\n",
    "# selecting all rows for specific column\n",
    "df.loc[:, ['Name', 'Age']]"
   ]
  },
  {
   "cell_type": "code",
   "execution_count": 23,
   "id": "f0873ee4",
   "metadata": {},
   "outputs": [
    {
     "data": {
      "text/html": [
       "<div>\n",
       "<style scoped>\n",
       "    .dataframe tbody tr th:only-of-type {\n",
       "        vertical-align: middle;\n",
       "    }\n",
       "\n",
       "    .dataframe tbody tr th {\n",
       "        vertical-align: top;\n",
       "    }\n",
       "\n",
       "    .dataframe thead th {\n",
       "        text-align: right;\n",
       "    }\n",
       "</style>\n",
       "<table border=\"1\" class=\"dataframe\">\n",
       "  <thead>\n",
       "    <tr style=\"text-align: right;\">\n",
       "      <th></th>\n",
       "      <th>Name</th>\n",
       "      <th>City</th>\n",
       "    </tr>\n",
       "  </thead>\n",
       "  <tbody>\n",
       "    <tr>\n",
       "      <th>id_B</th>\n",
       "      <td>Bob</td>\n",
       "      <td>Paris</td>\n",
       "    </tr>\n",
       "  </tbody>\n",
       "</table>\n",
       "</div>"
      ],
      "text/plain": [
       "     Name   City\n",
       "id_B  Bob  Paris"
      ]
     },
     "execution_count": 23,
     "metadata": {},
     "output_type": "execute_result"
    }
   ],
   "source": [
    "# Boolean Indexing (very powerful with .loc[])\n",
    "df.loc[df['Score']>80]\n",
    "\n",
    "# complex condition\n",
    "df.loc[(df['Age']>28) & (df['Score']>85), ['Name', 'City']]"
   ]
  },
  {
   "cell_type": "markdown",
   "id": "c7c2d324",
   "metadata": {},
   "source": [
    "### .iloc[] - Access by Integer Position\n",
    "- Selects data based on the integer positions of your rows and columns using .iloc[]\n",
    "- Uses numerical indices (like 0, 1, 2…) rather than row and column names.\n",
    "- When slicing, the start is included but the stop is excluded — like standard Python slicing."
   ]
  },
  {
   "cell_type": "code",
   "execution_count": 29,
   "id": "2d34fccc",
   "metadata": {},
   "outputs": [
    {
     "data": {
      "text/html": [
       "<div>\n",
       "<style scoped>\n",
       "    .dataframe tbody tr th:only-of-type {\n",
       "        vertical-align: middle;\n",
       "    }\n",
       "\n",
       "    .dataframe tbody tr th {\n",
       "        vertical-align: top;\n",
       "    }\n",
       "\n",
       "    .dataframe thead th {\n",
       "        text-align: right;\n",
       "    }\n",
       "</style>\n",
       "<table border=\"1\" class=\"dataframe\">\n",
       "  <thead>\n",
       "    <tr style=\"text-align: right;\">\n",
       "      <th></th>\n",
       "      <th>Name</th>\n",
       "      <th>Age</th>\n",
       "      <th>City</th>\n",
       "      <th>Score</th>\n",
       "    </tr>\n",
       "  </thead>\n",
       "  <tbody>\n",
       "    <tr>\n",
       "      <th>id_A</th>\n",
       "      <td>Alice</td>\n",
       "      <td>25</td>\n",
       "      <td>New York</td>\n",
       "      <td>85</td>\n",
       "    </tr>\n",
       "    <tr>\n",
       "      <th>id_B</th>\n",
       "      <td>Bob</td>\n",
       "      <td>30</td>\n",
       "      <td>Paris</td>\n",
       "      <td>90</td>\n",
       "    </tr>\n",
       "    <tr>\n",
       "      <th>id_C</th>\n",
       "      <td>Charlie</td>\n",
       "      <td>35</td>\n",
       "      <td>London</td>\n",
       "      <td>78</td>\n",
       "    </tr>\n",
       "    <tr>\n",
       "      <th>id_D</th>\n",
       "      <td>David</td>\n",
       "      <td>22</td>\n",
       "      <td>Berlin</td>\n",
       "      <td>92</td>\n",
       "    </tr>\n",
       "    <tr>\n",
       "      <th>id_E</th>\n",
       "      <td>Eve</td>\n",
       "      <td>28</td>\n",
       "      <td>Tokyo</td>\n",
       "      <td>88</td>\n",
       "    </tr>\n",
       "  </tbody>\n",
       "</table>\n",
       "</div>"
      ],
      "text/plain": [
       "         Name  Age      City  Score\n",
       "id_A    Alice   25  New York     85\n",
       "id_B      Bob   30     Paris     90\n",
       "id_C  Charlie   35    London     78\n",
       "id_D    David   22    Berlin     92\n",
       "id_E      Eve   28     Tokyo     88"
      ]
     },
     "execution_count": 29,
     "metadata": {},
     "output_type": "execute_result"
    }
   ],
   "source": [
    "df"
   ]
  },
  {
   "cell_type": "code",
   "execution_count": null,
   "id": "681333bc",
   "metadata": {},
   "outputs": [
    {
     "data": {
      "text/html": [
       "<div>\n",
       "<style scoped>\n",
       "    .dataframe tbody tr th:only-of-type {\n",
       "        vertical-align: middle;\n",
       "    }\n",
       "\n",
       "    .dataframe tbody tr th {\n",
       "        vertical-align: top;\n",
       "    }\n",
       "\n",
       "    .dataframe thead th {\n",
       "        text-align: right;\n",
       "    }\n",
       "</style>\n",
       "<table border=\"1\" class=\"dataframe\">\n",
       "  <thead>\n",
       "    <tr style=\"text-align: right;\">\n",
       "      <th></th>\n",
       "      <th>Name</th>\n",
       "      <th>Score</th>\n",
       "    </tr>\n",
       "  </thead>\n",
       "  <tbody>\n",
       "    <tr>\n",
       "      <th>id_A</th>\n",
       "      <td>Alice</td>\n",
       "      <td>85</td>\n",
       "    </tr>\n",
       "    <tr>\n",
       "      <th>id_C</th>\n",
       "      <td>Charlie</td>\n",
       "      <td>78</td>\n",
       "    </tr>\n",
       "  </tbody>\n",
       "</table>\n",
       "</div>"
      ],
      "text/plain": [
       "         Name  Score\n",
       "id_A    Alice     85\n",
       "id_C  Charlie     78"
      ]
     },
     "execution_count": 34,
     "metadata": {},
     "output_type": "execute_result"
    }
   ],
   "source": [
    "# Syntax: df.iloc[row_positions, column_positions]\n",
    "df.iloc[0]                  # returns series\n",
    "df.iloc[0:3]                # selecting multiple rows returns dataframe (row at 3rd index is not included)\n",
    "df.iloc[[0, 2], [0, 3]]     # selecting specific rows and columns"
   ]
  },
  {
   "cell_type": "markdown",
   "id": "b1dc29b9",
   "metadata": {},
   "source": [
    "### Key Differences Summarized:\n",
    "   | Feature            | `.loc`                                         | `.iloc`                                      |\n",
    "|-------------------|------------------------------------------------|----------------------------------------------|\n",
    "| **Input Type**     | Labels (index/column names)                   | Integer positions (0-based)                  |\n",
    "| **Slicing End**    | Inclusive (`df.loc['A':'C']` gets A, B, C)    | Exclusive (`df.iloc[0:3]` gets 0, 1, 2)      |\n",
    "| **Boolean Index**  | Primarily used with `.loc`                    | Can take boolean arrays, but less common     |\n",
    "| **Flexibility**    | Good when labels are meaningful/stable        | Good when positions are known/fixed          |\n"
   ]
  },
  {
   "cell_type": "markdown",
   "id": "73ca5067",
   "metadata": {},
   "source": [
    "### when to use \"df.\""
   ]
  },
  {
   "cell_type": "code",
   "execution_count": null,
   "id": "88f61be1",
   "metadata": {},
   "outputs": [],
   "source": [
    "# Methods (function you can call)\n",
    "df.head()\n",
    "df.tail()\n",
    "\n",
    "# Attributes (properties you access, no parentheses)\n",
    "df.columns\n",
    "df.index\n",
    "df.shape\n",
    "\n",
    "#Dot notation for single-column access (only works if the name has no spaces or special characters)\n",
    "df.even\n",
    "df.odd"
   ]
  },
  {
   "cell_type": "markdown",
   "id": "8b48a9e7",
   "metadata": {},
   "source": [
    "### Exercise"
   ]
  },
  {
   "cell_type": "code",
   "execution_count": 36,
   "id": "845f5e87",
   "metadata": {},
   "outputs": [
    {
     "name": "stdout",
     "output_type": "stream",
     "text": [
      "DataFrame for practice:\n",
      "      Name  Age         City  Score\n",
      "A    Alice   24     New York     85\n",
      "B      Bob   27  Los Angeles     90\n",
      "C  Charlie   22      Chicago     78\n",
      "D    David   32      Houston     88\n",
      "E      Eva   29      Phoenix     92\n"
     ]
    }
   ],
   "source": [
    "# Sample data\n",
    "data = {\n",
    "    'Name': ['Alice', 'Bob', 'Charlie', 'David', 'Eva'],\n",
    "    'Age': [24, 27, 22, 32, 29],\n",
    "    'City': ['New York', 'Los Angeles', 'Chicago', 'Houston', 'Phoenix'],\n",
    "    'Score': [85, 90, 78, 88, 92]\n",
    "}\n",
    "\n",
    "# Create DataFrame with custom index\n",
    "df = pd.DataFrame(data, index=['A', 'B', 'C', 'D', 'E'])\n",
    "\n",
    "# Show the DataFrame\n",
    "print(\"DataFrame for practice:\")\n",
    "print(df)\n"
   ]
  },
  {
   "cell_type": "code",
   "execution_count": 39,
   "id": "dee173e0",
   "metadata": {},
   "outputs": [
    {
     "name": "stdout",
     "output_type": "stream",
     "text": [
      "Age of person with inde label C: 22\n"
     ]
    }
   ],
   "source": [
    "# 1. Get the Age of the person with index label 'C'\n",
    "age = df.loc['C', 'Age']\n",
    "print(f'Age of person with inde label C: {age}')"
   ]
  },
  {
   "cell_type": "code",
   "execution_count": 41,
   "id": "85edefb2",
   "metadata": {},
   "outputs": [
    {
     "name": "stdout",
     "output_type": "stream",
     "text": [
      "First 3 rows of DataFrame: \n",
      "       Name  Age         City  Score\n",
      "A    Alice   24     New York     85\n",
      "B      Bob   27  Los Angeles     90\n",
      "C  Charlie   22      Chicago     78\n"
     ]
    }
   ],
   "source": [
    "# 2. Select the first 3 rows of the DataFrame using .iloc\n",
    "first_3_rows = df.iloc[:3]\n",
    "print(f'First 3 rows of DataFrame: \\n {first_3_rows}')"
   ]
  },
  {
   "cell_type": "code",
   "execution_count": null,
   "id": "c0558f99",
   "metadata": {},
   "outputs": [
    {
     "name": "stdout",
     "output_type": "stream",
     "text": [
      "Name and score of last row: \n",
      " Name     Eva\n",
      "Score     92\n",
      "Name: E, dtype: object\n"
     ]
    }
   ],
   "source": [
    "# 3. Get the Name and Score of the person in the last row using .iloc\n",
    "last_row_data = df.iloc[-1, [0, 3]]             # df.iloc[-1][['Name', 'Score']]\n",
    "print(f'Name and score of last row: \\n {last_row_data}')"
   ]
  },
  {
   "cell_type": "code",
   "execution_count": 45,
   "id": "92339c6e",
   "metadata": {},
   "outputs": [
    {
     "name": "stdout",
     "output_type": "stream",
     "text": [
      "City of people from B to D: \n",
      " B    Los Angeles\n",
      "C        Chicago\n",
      "D        Houston\n",
      "Name: City, dtype: object\n"
     ]
    }
   ],
   "source": [
    "# 4. Select the City of people from label 'B' to 'D' (inclusive)\n",
    "city = df.loc['B':'D', 'City']\n",
    "print(f'City of people from B to D: \\n {city}')"
   ]
  },
  {
   "cell_type": "code",
   "execution_count": 48,
   "id": "f2638ef8",
   "metadata": {},
   "outputs": [
    {
     "name": "stdout",
     "output_type": "stream",
     "text": [
      "second column: \n",
      " A    24\n",
      "B    27\n",
      "C    22\n",
      "D    32\n",
      "E    29\n",
      "Name: Age, dtype: int64\n"
     ]
    }
   ],
   "source": [
    "# 5. Retrieve the entire 2nd column using .iloc\n",
    "sec_col = df.iloc[:, 1]\n",
    "print(f'second column: \\n {sec_col}')"
   ]
  },
  {
   "cell_type": "code",
   "execution_count": null,
   "id": "29be2f55",
   "metadata": {},
   "outputs": [
    {
     "data": {
      "text/html": [
       "<div>\n",
       "<style scoped>\n",
       "    .dataframe tbody tr th:only-of-type {\n",
       "        vertical-align: middle;\n",
       "    }\n",
       "\n",
       "    .dataframe tbody tr th {\n",
       "        vertical-align: top;\n",
       "    }\n",
       "\n",
       "    .dataframe thead th {\n",
       "        text-align: right;\n",
       "    }\n",
       "</style>\n",
       "<table border=\"1\" class=\"dataframe\">\n",
       "  <thead>\n",
       "    <tr style=\"text-align: right;\">\n",
       "      <th></th>\n",
       "      <th>Name</th>\n",
       "      <th>Age</th>\n",
       "      <th>City</th>\n",
       "      <th>Score</th>\n",
       "    </tr>\n",
       "  </thead>\n",
       "  <tbody>\n",
       "    <tr>\n",
       "      <th>D</th>\n",
       "      <td>David</td>\n",
       "      <td>32</td>\n",
       "      <td>Houston</td>\n",
       "      <td>88</td>\n",
       "    </tr>\n",
       "  </tbody>\n",
       "</table>\n",
       "</div>"
      ],
      "text/plain": [
       "    Name  Age     City  Score\n",
       "D  David   32  Houston     88"
      ]
     },
     "execution_count": 59,
     "metadata": {},
     "output_type": "execute_result"
    }
   ],
   "source": [
    "# 6. Get the data of the person named 'David'\n",
    "df[df['Name'] == 'David']"
   ]
  }
 ],
 "metadata": {
  "kernelspec": {
   "display_name": "venv",
   "language": "python",
   "name": "python3"
  },
  "language_info": {
   "codemirror_mode": {
    "name": "ipython",
    "version": 3
   },
   "file_extension": ".py",
   "mimetype": "text/x-python",
   "name": "python",
   "nbconvert_exporter": "python",
   "pygments_lexer": "ipython3",
   "version": "3.13.2"
  }
 },
 "nbformat": 4,
 "nbformat_minor": 5
}
