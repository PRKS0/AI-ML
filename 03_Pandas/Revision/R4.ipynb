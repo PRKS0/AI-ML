{
 "cells": [
  {
   "cell_type": "markdown",
   "id": "b52104fc",
   "metadata": {},
   "source": [
    "Sorting"
   ]
  },
  {
   "cell_type": "code",
   "execution_count": 2,
   "id": "53dd0d76",
   "metadata": {},
   "outputs": [],
   "source": [
    "import pandas as pd"
   ]
  },
  {
   "cell_type": "code",
   "execution_count": 16,
   "id": "91e9c8e7",
   "metadata": {},
   "outputs": [
    {
     "data": {
      "text/html": [
       "<div>\n",
       "<style scoped>\n",
       "    .dataframe tbody tr th:only-of-type {\n",
       "        vertical-align: middle;\n",
       "    }\n",
       "\n",
       "    .dataframe tbody tr th {\n",
       "        vertical-align: top;\n",
       "    }\n",
       "\n",
       "    .dataframe thead th {\n",
       "        text-align: right;\n",
       "    }\n",
       "</style>\n",
       "<table border=\"1\" class=\"dataframe\">\n",
       "  <thead>\n",
       "    <tr style=\"text-align: right;\">\n",
       "      <th></th>\n",
       "      <th>name</th>\n",
       "      <th>age</th>\n",
       "      <th>salary</th>\n",
       "    </tr>\n",
       "  </thead>\n",
       "  <tbody>\n",
       "    <tr>\n",
       "      <th>0</th>\n",
       "      <td>Prakash</td>\n",
       "      <td>22</td>\n",
       "      <td>22000</td>\n",
       "    </tr>\n",
       "    <tr>\n",
       "      <th>1</th>\n",
       "      <td>Darshan</td>\n",
       "      <td>18</td>\n",
       "      <td>18000</td>\n",
       "    </tr>\n",
       "    <tr>\n",
       "      <th>2</th>\n",
       "      <td>Nishant</td>\n",
       "      <td>18</td>\n",
       "      <td>36000</td>\n",
       "    </tr>\n",
       "  </tbody>\n",
       "</table>\n",
       "</div>"
      ],
      "text/plain": [
       "      name  age  salary\n",
       "0  Prakash   22   22000\n",
       "1  Darshan   18   18000\n",
       "2  Nishant   18   36000"
      ]
     },
     "execution_count": 16,
     "metadata": {},
     "output_type": "execute_result"
    }
   ],
   "source": [
    "raw = {\n",
    "    'name': ['Prakash', 'Darshan', 'Nishant'],\n",
    "    'age': [22, 18, 18],\n",
    "    'salary': [22000, 18000, 36000]\n",
    "}\n",
    "df = pd.DataFrame(data=raw)\n",
    "df"
   ]
  },
  {
   "cell_type": "code",
   "execution_count": 14,
   "id": "9e37ac9e",
   "metadata": {},
   "outputs": [
    {
     "data": {
      "text/html": [
       "<div>\n",
       "<style scoped>\n",
       "    .dataframe tbody tr th:only-of-type {\n",
       "        vertical-align: middle;\n",
       "    }\n",
       "\n",
       "    .dataframe tbody tr th {\n",
       "        vertical-align: top;\n",
       "    }\n",
       "\n",
       "    .dataframe thead th {\n",
       "        text-align: right;\n",
       "    }\n",
       "</style>\n",
       "<table border=\"1\" class=\"dataframe\">\n",
       "  <thead>\n",
       "    <tr style=\"text-align: right;\">\n",
       "      <th></th>\n",
       "      <th>name</th>\n",
       "      <th>age</th>\n",
       "      <th>salary</th>\n",
       "    </tr>\n",
       "  </thead>\n",
       "  <tbody>\n",
       "    <tr>\n",
       "      <th>1</th>\n",
       "      <td>Darshan</td>\n",
       "      <td>18</td>\n",
       "      <td>18000</td>\n",
       "    </tr>\n",
       "    <tr>\n",
       "      <th>2</th>\n",
       "      <td>Nishant</td>\n",
       "      <td>12</td>\n",
       "      <td>36000</td>\n",
       "    </tr>\n",
       "    <tr>\n",
       "      <th>0</th>\n",
       "      <td>Prakash</td>\n",
       "      <td>22</td>\n",
       "      <td>22000</td>\n",
       "    </tr>\n",
       "  </tbody>\n",
       "</table>\n",
       "</div>"
      ],
      "text/plain": [
       "      name  age  salary\n",
       "1  Darshan   18   18000\n",
       "2  Nishant   12   36000\n",
       "0  Prakash   22   22000"
      ]
     },
     "execution_count": 14,
     "metadata": {},
     "output_type": "execute_result"
    }
   ],
   "source": [
    "# basic sorting\n",
    "df.sort_values(by='name', ascending=True, inplace=True)\n",
    "df"
   ]
  },
  {
   "cell_type": "code",
   "execution_count": null,
   "id": "3ae02e5f",
   "metadata": {},
   "outputs": [
    {
     "data": {
      "text/html": [
       "<div>\n",
       "<style scoped>\n",
       "    .dataframe tbody tr th:only-of-type {\n",
       "        vertical-align: middle;\n",
       "    }\n",
       "\n",
       "    .dataframe tbody tr th {\n",
       "        vertical-align: top;\n",
       "    }\n",
       "\n",
       "    .dataframe thead th {\n",
       "        text-align: right;\n",
       "    }\n",
       "</style>\n",
       "<table border=\"1\" class=\"dataframe\">\n",
       "  <thead>\n",
       "    <tr style=\"text-align: right;\">\n",
       "      <th></th>\n",
       "      <th>name</th>\n",
       "      <th>age</th>\n",
       "      <th>salary</th>\n",
       "    </tr>\n",
       "  </thead>\n",
       "  <tbody>\n",
       "    <tr>\n",
       "      <th>2</th>\n",
       "      <td>Nishant</td>\n",
       "      <td>18</td>\n",
       "      <td>36000</td>\n",
       "    </tr>\n",
       "    <tr>\n",
       "      <th>1</th>\n",
       "      <td>Darshan</td>\n",
       "      <td>18</td>\n",
       "      <td>18000</td>\n",
       "    </tr>\n",
       "    <tr>\n",
       "      <th>0</th>\n",
       "      <td>Prakash</td>\n",
       "      <td>22</td>\n",
       "      <td>22000</td>\n",
       "    </tr>\n",
       "  </tbody>\n",
       "</table>\n",
       "</div>"
      ],
      "text/plain": [
       "      name  age  salary\n",
       "2  Nishant   18   36000\n",
       "1  Darshan   18   18000\n",
       "0  Prakash   22   22000"
      ]
     },
     "execution_count": 17,
     "metadata": {},
     "output_type": "execute_result"
    }
   ],
   "source": [
    "# multiple column sorting\n",
    "df.sort_values(by=['age', 'salary'], ascending=[True, False], inplace=True)\n",
    "df\n",
    "\n",
    "# how it works: at first it sort the age smaller to larger. nishant and darshan have same age, so it sort them on the basis of salary. since, nishant has more salary than darshan, nishant is at first"
   ]
  },
  {
   "cell_type": "markdown",
   "id": "d43979dc",
   "metadata": {},
   "source": [
    "### Aggregation: basically, it is applying methods (summary methods)]"
   ]
  },
  {
   "cell_type": "code",
   "execution_count": 18,
   "id": "b9bba776",
   "metadata": {},
   "outputs": [
    {
     "data": {
      "text/plain": [
       "np.int64(36000)"
      ]
     },
     "execution_count": 18,
     "metadata": {},
     "output_type": "execute_result"
    }
   ],
   "source": [
    "df['age'].mean()\n",
    "df['salary'].min()\n",
    "df['salary'].max()"
   ]
  },
  {
   "cell_type": "markdown",
   "id": "31cc4073",
   "metadata": {},
   "source": [
    "### Grouping: it create group based on the unique value."
   ]
  },
  {
   "cell_type": "code",
   "execution_count": 22,
   "id": "8b1bb27f",
   "metadata": {},
   "outputs": [
    {
     "data": {
      "text/html": [
       "<div>\n",
       "<style scoped>\n",
       "    .dataframe tbody tr th:only-of-type {\n",
       "        vertical-align: middle;\n",
       "    }\n",
       "\n",
       "    .dataframe tbody tr th {\n",
       "        vertical-align: top;\n",
       "    }\n",
       "\n",
       "    .dataframe thead th {\n",
       "        text-align: right;\n",
       "    }\n",
       "</style>\n",
       "<table border=\"1\" class=\"dataframe\">\n",
       "  <thead>\n",
       "    <tr style=\"text-align: right;\">\n",
       "      <th></th>\n",
       "      <th>ID</th>\n",
       "      <th>Name</th>\n",
       "      <th>Age</th>\n",
       "      <th>Gender</th>\n",
       "      <th>Department</th>\n",
       "      <th>Joining_Date</th>\n",
       "      <th>Salary</th>\n",
       "      <th>Performance_Score</th>\n",
       "      <th>Remote_Work</th>\n",
       "    </tr>\n",
       "  </thead>\n",
       "  <tbody>\n",
       "    <tr>\n",
       "      <th>0</th>\n",
       "      <td>1.0</td>\n",
       "      <td>Person_1</td>\n",
       "      <td>56</td>\n",
       "      <td>Female</td>\n",
       "      <td>HR</td>\n",
       "      <td>2018-10-01</td>\n",
       "      <td>71919.0</td>\n",
       "      <td>Good</td>\n",
       "      <td>True</td>\n",
       "    </tr>\n",
       "    <tr>\n",
       "      <th>1</th>\n",
       "      <td>2.0</td>\n",
       "      <td>Person_2</td>\n",
       "      <td>46</td>\n",
       "      <td>Female</td>\n",
       "      <td>Finance</td>\n",
       "      <td>2020-06-09</td>\n",
       "      <td>35600.0</td>\n",
       "      <td>Average</td>\n",
       "      <td>False</td>\n",
       "    </tr>\n",
       "    <tr>\n",
       "      <th>2</th>\n",
       "      <td>3.0</td>\n",
       "      <td>Person_3</td>\n",
       "      <td>32</td>\n",
       "      <td>Male</td>\n",
       "      <td>IT</td>\n",
       "      <td>2019-03-15</td>\n",
       "      <td>59124.0</td>\n",
       "      <td>Excellent</td>\n",
       "      <td>False</td>\n",
       "    </tr>\n",
       "    <tr>\n",
       "      <th>3</th>\n",
       "      <td>4.0</td>\n",
       "      <td>Person_4</td>\n",
       "      <td>60</td>\n",
       "      <td>Male</td>\n",
       "      <td>HR</td>\n",
       "      <td>2015-05-27</td>\n",
       "      <td>57643.0</td>\n",
       "      <td>Good</td>\n",
       "      <td>False</td>\n",
       "    </tr>\n",
       "    <tr>\n",
       "      <th>4</th>\n",
       "      <td>5.0</td>\n",
       "      <td>Person_5</td>\n",
       "      <td>25</td>\n",
       "      <td>Male</td>\n",
       "      <td>HR</td>\n",
       "      <td>2023-10-25</td>\n",
       "      <td>70764.0</td>\n",
       "      <td>Average</td>\n",
       "      <td>False</td>\n",
       "    </tr>\n",
       "    <tr>\n",
       "      <th>...</th>\n",
       "      <td>...</td>\n",
       "      <td>...</td>\n",
       "      <td>...</td>\n",
       "      <td>...</td>\n",
       "      <td>...</td>\n",
       "      <td>...</td>\n",
       "      <td>...</td>\n",
       "      <td>...</td>\n",
       "      <td>...</td>\n",
       "    </tr>\n",
       "    <tr>\n",
       "      <th>95</th>\n",
       "      <td>96.0</td>\n",
       "      <td>Person_96</td>\n",
       "      <td>24</td>\n",
       "      <td>Male</td>\n",
       "      <td>Marketing</td>\n",
       "      <td>2020-09-05</td>\n",
       "      <td>62097.0</td>\n",
       "      <td>Excellent</td>\n",
       "      <td>True</td>\n",
       "    </tr>\n",
       "    <tr>\n",
       "      <th>96</th>\n",
       "      <td>97.0</td>\n",
       "      <td>Person_97</td>\n",
       "      <td>26</td>\n",
       "      <td>Female</td>\n",
       "      <td>Marketing</td>\n",
       "      <td>2015-08-14</td>\n",
       "      <td>43121.0</td>\n",
       "      <td>Good</td>\n",
       "      <td>True</td>\n",
       "    </tr>\n",
       "    <tr>\n",
       "      <th>97</th>\n",
       "      <td>98.0</td>\n",
       "      <td>Person_98</td>\n",
       "      <td>41</td>\n",
       "      <td>Female</td>\n",
       "      <td>Finance</td>\n",
       "      <td>2017-03-08</td>\n",
       "      <td>85071.0</td>\n",
       "      <td>NaN</td>\n",
       "      <td>False</td>\n",
       "    </tr>\n",
       "    <tr>\n",
       "      <th>98</th>\n",
       "      <td>NaN</td>\n",
       "      <td>Person_99</td>\n",
       "      <td>18</td>\n",
       "      <td>Male</td>\n",
       "      <td>Marketing</td>\n",
       "      <td>2021-05-20</td>\n",
       "      <td>40966.0</td>\n",
       "      <td>Excellent</td>\n",
       "      <td>False</td>\n",
       "    </tr>\n",
       "    <tr>\n",
       "      <th>99</th>\n",
       "      <td>100.0</td>\n",
       "      <td>Person_100</td>\n",
       "      <td>61</td>\n",
       "      <td>Female</td>\n",
       "      <td>Finance</td>\n",
       "      <td>2023-01-05</td>\n",
       "      <td>89326.0</td>\n",
       "      <td>Average</td>\n",
       "      <td>True</td>\n",
       "    </tr>\n",
       "  </tbody>\n",
       "</table>\n",
       "<p>100 rows × 9 columns</p>\n",
       "</div>"
      ],
      "text/plain": [
       "       ID        Name  Age  Gender Department Joining_Date   Salary  \\\n",
       "0     1.0    Person_1   56  Female         HR   2018-10-01  71919.0   \n",
       "1     2.0    Person_2   46  Female    Finance   2020-06-09  35600.0   \n",
       "2     3.0    Person_3   32    Male         IT   2019-03-15  59124.0   \n",
       "3     4.0    Person_4   60    Male         HR   2015-05-27  57643.0   \n",
       "4     5.0    Person_5   25    Male         HR   2023-10-25  70764.0   \n",
       "..    ...         ...  ...     ...        ...          ...      ...   \n",
       "95   96.0   Person_96   24    Male  Marketing   2020-09-05  62097.0   \n",
       "96   97.0   Person_97   26  Female  Marketing   2015-08-14  43121.0   \n",
       "97   98.0   Person_98   41  Female    Finance   2017-03-08  85071.0   \n",
       "98    NaN   Person_99   18    Male  Marketing   2021-05-20  40966.0   \n",
       "99  100.0  Person_100   61  Female    Finance   2023-01-05  89326.0   \n",
       "\n",
       "   Performance_Score  Remote_Work  \n",
       "0               Good         True  \n",
       "1            Average        False  \n",
       "2          Excellent        False  \n",
       "3               Good        False  \n",
       "4            Average        False  \n",
       "..               ...          ...  \n",
       "95         Excellent         True  \n",
       "96              Good         True  \n",
       "97               NaN        False  \n",
       "98         Excellent        False  \n",
       "99           Average         True  \n",
       "\n",
       "[100 rows x 9 columns]"
      ]
     },
     "execution_count": 22,
     "metadata": {},
     "output_type": "execute_result"
    }
   ],
   "source": [
    "df = pd.read_csv('../../practice_dataset.csv')\n",
    "df"
   ]
  },
  {
   "cell_type": "code",
   "execution_count": 26,
   "id": "ef73fe10",
   "metadata": {},
   "outputs": [
    {
     "name": "stdout",
     "output_type": "stream",
     "text": [
      "unique department: ['HR' 'Finance' 'IT' nan 'Marketing']\n"
     ]
    }
   ],
   "source": [
    "unique_dep = df['Department'].unique()\n",
    "print(f'unique department: {unique_dep}')"
   ]
  },
  {
   "cell_type": "code",
   "execution_count": null,
   "id": "934649cc",
   "metadata": {},
   "outputs": [
    {
     "name": "stdout",
     "output_type": "stream",
     "text": [
      "Department\n",
      "Finance      1384827.0\n",
      "HR           1654655.0\n",
      "IT           1230212.0\n",
      "Marketing    1456183.0\n",
      "Name: Salary, dtype: float64\n",
      "Department\n",
      "Finance      30301.0\n",
      "HR           30784.0\n",
      "IT           40647.0\n",
      "Marketing    30190.0\n",
      "Name: Salary, dtype: float64\n",
      "Department\n",
      "Finance      60209.869565\n",
      "HR           63640.576923\n",
      "IT           64748.000000\n",
      "Marketing    58247.320000\n",
      "Name: Salary, dtype: float64\n",
      "Department\n",
      "Finance      24\n",
      "HR           26\n",
      "IT           21\n",
      "Marketing    26\n",
      "Name: Salary, dtype: int64\n"
     ]
    }
   ],
   "source": [
    "# how much salary is earned by each department\n",
    "# group + aggregation\n",
    "\n",
    "grouped = df.groupby('Department')['Salary']\n",
    "print(grouped.sum())\n",
    "print(grouped.min())\n",
    "print(grouped.mean())\n",
    "print(grouped.size())"
   ]
  },
  {
   "cell_type": "markdown",
   "id": "072a0786",
   "metadata": {},
   "source": [
    "Grouping based on multiple columns"
   ]
  },
  {
   "cell_type": "code",
   "execution_count": 41,
   "id": "ef5c4db1",
   "metadata": {},
   "outputs": [
    {
     "data": {
      "text/plain": [
       "Department  Performance_Score\n",
       "Finance     Average               3\n",
       "            Excellent             8\n",
       "            Good                  6\n",
       "            Poor                  5\n",
       "HR          Average               6\n",
       "            Excellent             4\n",
       "            Good                 11\n",
       "            Poor                  5\n",
       "IT          Average               4\n",
       "            Excellent             5\n",
       "            Good                  4\n",
       "            Poor                  5\n",
       "Marketing   Average               4\n",
       "            Excellent            10\n",
       "            Good                  3\n",
       "            Poor                  8\n",
       "Name: Salary, dtype: int64"
      ]
     },
     "execution_count": 41,
     "metadata": {},
     "output_type": "execute_result"
    }
   ],
   "source": [
    "df.groupby(['Department', 'Performance_Score'])['Salary'].sum()\n",
    "df.groupby(['Department', 'Performance_Score'])['Salary'].count()"
   ]
  }
 ],
 "metadata": {
  "kernelspec": {
   "display_name": "venv",
   "language": "python",
   "name": "python3"
  },
  "language_info": {
   "codemirror_mode": {
    "name": "ipython",
    "version": 3
   },
   "file_extension": ".py",
   "mimetype": "text/x-python",
   "name": "python",
   "nbconvert_exporter": "python",
   "pygments_lexer": "ipython3",
   "version": "3.13.2"
  }
 },
 "nbformat": 4,
 "nbformat_minor": 5
}
