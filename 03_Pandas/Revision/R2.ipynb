{
 "cells": [
  {
   "cell_type": "markdown",
   "id": "25cc348e",
   "metadata": {},
   "source": [
    "### Data "
   ]
  },
  {
   "cell_type": "code",
   "execution_count": 2,
   "id": "f4ffc04c",
   "metadata": {},
   "outputs": [],
   "source": [
    "import pandas as pd\n",
    "import numpy as np"
   ]
  },
  {
   "cell_type": "code",
   "execution_count": 12,
   "id": "73122233",
   "metadata": {},
   "outputs": [
    {
     "name": "stdout",
     "output_type": "stream",
     "text": [
      "      ID                 Name  Age  Gender Department  Salary Joining_Date Performance_Score  Experience_Years  Bonus Remote_Work\n",
      "0      1       Noah Hernandez   56    Male         IT   35486   2015-01-01         Excellent                18   8196          No\n",
      "1      2           Ava Miller   46  Female         IT   38335   2015-01-16         Excellent                 9   4368         Yes\n",
      "2      3  Charlotte Hernandez   32  Female    Finance  116900   2015-01-31              Poor                 8   4797          No\n",
      "3      4        Ethan Johnson   25    Male         IT  119112   2015-02-15           Average                 4   2792          No\n",
      "4      5       William Martin   38  Female         IT   41130   2015-03-02           Average                 5   6732         Yes\n",
      "..   ...                  ...  ...     ...        ...     ...          ...               ...               ...    ...         ...\n",
      "195  196     Charlotte Thomas   23  Female         HR   67131   2023-01-04           Average                 7   9942          No\n",
      "196  197    Isabella Martinez   49  Female  Marketing   72944   2023-01-19              Poor                 9   2762          No\n",
      "197  198        Mia Rodriguez   21    Male  Marketing  103963   2023-02-03              Poor                16   8101         Yes\n",
      "198  199           John Jones   28  Female    Finance   54285   2023-02-18         Excellent                 8   8674          No\n",
      "199  200         Evelyn Davis   34  Female         IT   67626   2023-03-05              Poor                18   7122         Yes\n",
      "\n",
      "[200 rows x 11 columns]\n"
     ]
    }
   ],
   "source": [
    "# reading csv data\n",
    "# pd.set_option('display.max_columns', None)\n",
    "pd.set_option('display.width', 150) \n",
    "data = pd.read_csv('../../Data.csv')\n",
    "print(data)"
   ]
  },
  {
   "cell_type": "markdown",
   "id": "dbe0171b",
   "metadata": {},
   "source": [
    "Basic property and methods"
   ]
  },
  {
   "cell_type": "code",
   "execution_count": 5,
   "id": "82242747",
   "metadata": {},
   "outputs": [
    {
     "name": "stdout",
     "output_type": "stream",
     "text": [
      "<class 'pandas.core.frame.DataFrame'>\n",
      "RangeIndex: 200 entries, 0 to 199\n",
      "Data columns (total 11 columns):\n",
      " #   Column             Non-Null Count  Dtype \n",
      "---  ------             --------------  ----- \n",
      " 0   ID                 200 non-null    int64 \n",
      " 1   Name               200 non-null    object\n",
      " 2   Age                200 non-null    int64 \n",
      " 3   Gender             200 non-null    object\n",
      " 4   Department         200 non-null    object\n",
      " 5   Salary             200 non-null    int64 \n",
      " 6   Joining_Date       200 non-null    object\n",
      " 7   Performance_Score  200 non-null    object\n",
      " 8   Experience_Years   200 non-null    int64 \n",
      " 9   Bonus              200 non-null    int64 \n",
      " 10  Remote_Work        200 non-null    object\n",
      "dtypes: int64(5), object(6)\n",
      "memory usage: 17.3+ KB\n"
     ]
    },
    {
     "data": {
      "text/plain": [
       "Index(['ID', 'Name', 'Age', 'Gender', 'Department', 'Salary', 'Joining_Date',\n",
       "       'Performance_Score', 'Experience_Years', 'Bonus', 'Remote_Work'],\n",
       "      dtype='object')"
      ]
     },
     "execution_count": 5,
     "metadata": {},
     "output_type": "execute_result"
    }
   ],
   "source": [
    "# head: first n row of data (d:5)\n",
    "data.head(10)\n",
    "\n",
    "#describe: count, mean, std, min, etc of numerical column(defaault)\n",
    "data.describe()\n",
    "\n",
    "#info: number of - (row and column), (null, non), Dtype,  \n",
    "data.info()\n",
    "\n",
    "# shape\n",
    "data.shape\n",
    "\n",
    "# name of columns\n",
    "data.columns"
   ]
  },
  {
   "cell_type": "markdown",
   "id": "9e5559fe",
   "metadata": {},
   "source": [
    "Filtering"
   ]
  },
  {
   "cell_type": "code",
   "execution_count": 16,
   "id": "cb77f123",
   "metadata": {},
   "outputs": [
    {
     "name": "stdout",
     "output_type": "stream",
     "text": [
      "      ID             Name  Age  Gender Department  Salary Joining_Date Performance_Score  Experience_Years  Bonus Remote_Work\n",
      "3      4    Ethan Johnson   25    Male         IT  119112   2015-02-15           Average                 4   2792          No\n",
      "5      6     Olivia Davis   56  Female         IT  117508   2015-03-17           Average                19   4476         Yes\n",
      "11    12        Ava Jones   53  Female         IT  119780   2015-06-15           Average                 5   2854         Yes\n",
      "27    28   James Anderson   59    Male         IT  107052   2016-02-10              Good                14   9577          No\n",
      "37    38  Sophia Gonzalez   35    Male         IT  113460   2016-07-09              Good                12   6299         Yes\n",
      "60    61    Emma Gonzalez   43  Female         IT  116188   2017-06-19              Poor                17   3079         Yes\n",
      "155  156     Daniel Lopez   42  Female         IT  105880   2021-05-14           Average                19   6796          No\n",
      "    ID             Name  Age Gender Department  Salary Joining_Date Performance_Score  Experience_Years  Bonus Remote_Work\n",
      "3    4    Ethan Johnson   25   Male         IT  119112   2015-02-15           Average                 4   2792          No\n",
      "27  28   James Anderson   59   Male         IT  107052   2016-02-10              Good                14   9577          No\n",
      "37  38  Sophia Gonzalez   35   Male         IT  113460   2016-07-09              Good                12   6299         Yes\n"
     ]
    }
   ],
   "source": [
    "# boolean indexing: give rows matching the condition\n",
    "# what if we want employee/s having salary more than 100,000\n",
    "salary_lakh = data[(data['Salary']>100000) & (data['Department']=='IT')]\n",
    "print(salary_lakh)\n",
    "\n",
    "remote = salary_lakh[(salary_lakh['Gender']=='Male') | (salary_lakh['Performance_Score'] == 'Good')]\n",
    "print(remote)"
   ]
  },
  {
   "cell_type": "markdown",
   "id": "1ba297e7",
   "metadata": {},
   "source": [
    "Adding new column"
   ]
  },
  {
   "cell_type": "code",
   "execution_count": 36,
   "id": "41651fa3",
   "metadata": {},
   "outputs": [
    {
     "name": "stdout",
     "output_type": "stream",
     "text": [
      "      real  prime  even  odd\n",
      "num1     1      2     2    1\n",
      "num2     2      3     4    3\n",
      "num3     3      5     6    5\n",
      "num4     4      7     8    7\n",
      "num5     5     11    10    9\n",
      "      real  prime  even  odd  Real_Odd\n",
      "num1     1      2     2    1         1\n",
      "num2     2      3     4    3         6\n",
      "num3     3      5     6    5        15\n",
      "num4     4      7     8    7        28\n",
      "num5     5     11    10    9        45\n"
     ]
    }
   ],
   "source": [
    "raw_data = [[1, 2, 3, 4, 5], [2, 3, 5, 7, 11], [2, 4, 6, 8, 10], [1, 3, 5, 7, 9]]\n",
    "raw_data_arr = np.array(raw_data).T\n",
    "col_name = ['real', 'prime', 'even', 'odd']\n",
    "index = ['num1', 'num2', 'num3', 'num4', 'num5']\n",
    "# index = [1, 2, 3, 4, 0]\n",
    "\n",
    "df = pd.DataFrame(raw_data_arr, columns=col_name, index=index)\n",
    "print(df)\n",
    "\n",
    "# adding new column (product of real and odd)\n",
    "RealxOdd = df['real'] * df['odd']\n",
    "df['Real_Odd'] = RealxOdd\n",
    "print(df)"
   ]
  },
  {
   "cell_type": "code",
   "execution_count": null,
   "id": "b6ab6a09",
   "metadata": {},
   "outputs": [],
   "source": [
    "# insert method insert(position, col_name, col_data)\n",
    "cube = df['real'] ** 3\n",
    "df.insert(4, 'Cubes', cube)"
   ]
  },
  {
   "cell_type": "code",
   "execution_count": 29,
   "id": "c26776e3",
   "metadata": {},
   "outputs": [
    {
     "name": "stdout",
     "output_type": "stream",
     "text": [
      "      real  prime  even  odd  Cubes  Cube  Real_Odd\n",
      "num1     1      2     2    1      1     1         1\n",
      "num2     2      3     4    3      8     8         6\n",
      "num3     3      5     6    5     27    27        15\n",
      "num4     4      7     8    7     64    64        28\n",
      "num5     5     11    10    9    125   125        45\n"
     ]
    }
   ],
   "source": [
    "print(df)"
   ]
  },
  {
   "cell_type": "markdown",
   "id": "f1709824",
   "metadata": {},
   "source": [
    "Deleting Column: Now we have two columns for cube, what if we want to remove one "
   ]
  },
  {
   "cell_type": "code",
   "execution_count": null,
   "id": "9a367c85",
   "metadata": {},
   "outputs": [
    {
     "name": "stdout",
     "output_type": "stream",
     "text": [
      "      real  prime  even  odd  Cube  Real_Odd\n",
      "num1     1      2     2    1     1         1\n",
      "num2     2      3     4    3     8         6\n",
      "num3     3      5     6    5    27        15\n",
      "num4     4      7     8    7    64        28\n",
      "num5     5     11    10    9   125        45\n"
     ]
    }
   ],
   "source": [
    "# del\n",
    "del df['Cubes']\n",
    "print(df)\n",
    "\n",
    "# drop: return new dataframe, no change in original, so use inplace=True\n",
    "# df.drop('Cubes', axis=1, inplace=True)        # axis1 = column\n",
    "# df.drop(columns=[col_name], inplace=True)     # no need to mention axis    \n",
    "# df.drop(index=[index], inplace=True)          # remove row   \n",
    "\n",
    "# pop: remove from dataframe and store it into new variable\n",
    "# df.pop('Cubes')"
   ]
  },
  {
   "cell_type": "markdown",
   "id": "a5173920",
   "metadata": {},
   "source": [
    "Updating value"
   ]
  },
  {
   "cell_type": "code",
   "execution_count": 37,
   "id": "d424319e",
   "metadata": {},
   "outputs": [
    {
     "name": "stdout",
     "output_type": "stream",
     "text": [
      "      name  Age  Percentage Active\n",
      "0  Prakash   18          75    yes\n",
      "1  Darshan   16          70    yes\n",
      "2  Nishant   18          90     no\n",
      "3  Sandesh   20          45    yes\n",
      "4  Krishna   20          99    yes\n",
      "5  Nirajan   18          77    yes\n",
      "6   Nimraj   19          80     no\n",
      "7   Nirmal   19          35    yes\n",
      "8       BP   20          19    yes\n"
     ]
    }
   ],
   "source": [
    "student = {\n",
    "    'name': ['Prakash', 'Darshan', 'Nishant', 'Sandesh', 'Krishna', 'Nirajan', 'Nimraj', 'Nirmal', 'BP'],\n",
    "    'Age': [18, 16, 18, 20, 20, 18, 19, 19, 20],\n",
    "    'Percentage': [75, 70, 90, 45, 99, 77, 80, 35, 19],\n",
    "    'Active': ['yes', 'yes', 'no', 'yes', 'yes', 'yes', 'no', 'yes', 'yes']\n",
    "}\n",
    "\n",
    "df = pd.DataFrame(student)\n",
    "print(df)"
   ]
  },
  {
   "cell_type": "code",
   "execution_count": 38,
   "id": "f8f476f3",
   "metadata": {},
   "outputs": [
    {
     "name": "stdout",
     "output_type": "stream",
     "text": [
      "      name  Age  Percentage Active\n",
      "0  Prakash   18          75    yes\n",
      "1  Darshan   16          70    yes\n",
      "2  Nishant   18          90     no\n",
      "3  Sandesh   20          45    yes\n",
      "4  Krishna   20          99    yes\n",
      "5  Nirajan   18          77    yes\n",
      "6   Nimraj   19          80    yes\n",
      "7   Nirmal   19          35    yes\n",
      "8       BP   20          19     no\n"
     ]
    }
   ],
   "source": [
    "# make Nimraj active=Yes, and BP active=No\n",
    "df.loc[6, 'Active'] = 'yes'\n",
    "df.loc[8, 'Active'] = 'no'\n",
    "\n",
    "print(df)"
   ]
  }
 ],
 "metadata": {
  "kernelspec": {
   "display_name": "venv",
   "language": "python",
   "name": "python3"
  },
  "language_info": {
   "codemirror_mode": {
    "name": "ipython",
    "version": 3
   },
   "file_extension": ".py",
   "mimetype": "text/x-python",
   "name": "python",
   "nbconvert_exporter": "python",
   "pygments_lexer": "ipython3",
   "version": "3.13.2"
  }
 },
 "nbformat": 4,
 "nbformat_minor": 5
}
