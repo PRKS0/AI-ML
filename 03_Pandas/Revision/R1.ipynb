{
 "cells": [
  {
   "cell_type": "code",
   "execution_count": 1,
   "id": "ac0fdbbf",
   "metadata": {},
   "outputs": [],
   "source": [
    "import pandas as pd\n",
    "import numpy as np"
   ]
  },
  {
   "cell_type": "markdown",
   "id": "3b3bd574",
   "metadata": {},
   "source": [
    "Creating data frame"
   ]
  },
  {
   "cell_type": "code",
   "execution_count": 90,
   "id": "55a928b5",
   "metadata": {},
   "outputs": [
    {
     "name": "stdout",
     "output_type": "stream",
     "text": [
      "      real  prime  even  odd\n",
      "num1     1      2     2    1\n",
      "num2     2      3     4    3\n",
      "num3     3      5     6    5\n",
      "num4     4      7     8    7\n",
      "num5     5     11    10    9\n"
     ]
    }
   ],
   "source": [
    "raw_data = [[1, 2, 3, 4, 5], [2, 3, 5, 7, 11], [2, 4, 6, 8, 10], [1, 3, 5, 7, 9]]\n",
    "raw_data_arr = np.array(raw_data).T\n",
    "col_name = ['real', 'prime', 'even', 'odd']\n",
    "index = ['num1', 'num2', 'num3', 'num4', 'num5']\n",
    "# index = [1, 2, 3, 4, 0]\n",
    "\n",
    "df = pd.DataFrame(raw_data_arr, columns=col_name, index=index)\n",
    "print(df)"
   ]
  },
  {
   "cell_type": "markdown",
   "id": "0a3e9ecb",
   "metadata": {},
   "source": [
    "How to access columns"
   ]
  },
  {
   "cell_type": "code",
   "execution_count": 126,
   "id": "b4b0cde7",
   "metadata": {},
   "outputs": [
    {
     "name": "stdout",
     "output_type": "stream",
     "text": [
      "      real  even\n",
      "num1     1     2\n",
      "num2     2     4\n",
      "num3     3     6\n",
      "num4     4     8\n",
      "num5     5    10\n"
     ]
    }
   ],
   "source": [
    "# by property method (return series)\n",
    "df.real             # only works when label has no space and special character\n",
    "\n",
    "# by [big_bracket method] (return series)\n",
    "df['real']              # df['Real'][0]: chain indexing - to access element of column (not recommended)\n",
    "\n",
    "# multiple columns (return dataframe)\n",
    "print(df[['real', 'even']])\n",
    "\n",
    "# we use df[] or df.col_name to access column only, but for great control on selection use loc or iloc"
   ]
  },
  {
   "cell_type": "markdown",
   "id": "5cfdf1a2",
   "metadata": {},
   "source": [
    "Chain Indexing"
   ]
  },
  {
   "cell_type": "code",
   "execution_count": null,
   "id": "2210d3ab",
   "metadata": {},
   "outputs": [],
   "source": [
    "# two types of chain indexing\n",
    "\n",
    "# position indexing \n",
    "df['real'][0]\n",
    "# chek whether index/label '0' is given or not, if yes: index/label indexing, else: position indexing (assign first element)\n",
    "# view: when there is label indexing\n",
    "# copy: when there is position indexing\n",
    "# problem: so when we try to assign new value using using position indexing, value on actual dataframe is not changed, and this error is hard to find.\n",
    "# label indexing don't give warning, but still not safe to use\n",
    "\n",
    "# label indexing\n",
    "# df['real']['num1']"
   ]
  },
  {
   "cell_type": "markdown",
   "id": "597ec293",
   "metadata": {},
   "source": [
    "## .loc: Label Based Indexing\n",
    "1. expect label of rows and columns\n",
    "2. expect array of boolean value equal to the length of axis being called. \n",
    "3. slicing: first and last value are included"
   ]
  },
  {
   "cell_type": "code",
   "execution_count": 111,
   "id": "ed3b0e87",
   "metadata": {},
   "outputs": [
    {
     "data": {
      "text/html": [
       "<div>\n",
       "<style scoped>\n",
       "    .dataframe tbody tr th:only-of-type {\n",
       "        vertical-align: middle;\n",
       "    }\n",
       "\n",
       "    .dataframe tbody tr th {\n",
       "        vertical-align: top;\n",
       "    }\n",
       "\n",
       "    .dataframe thead th {\n",
       "        text-align: right;\n",
       "    }\n",
       "</style>\n",
       "<table border=\"1\" class=\"dataframe\">\n",
       "  <thead>\n",
       "    <tr style=\"text-align: right;\">\n",
       "      <th></th>\n",
       "      <th>prime</th>\n",
       "      <th>even</th>\n",
       "      <th>odd</th>\n",
       "    </tr>\n",
       "  </thead>\n",
       "  <tbody>\n",
       "    <tr>\n",
       "      <th>num1</th>\n",
       "      <td>2</td>\n",
       "      <td>2</td>\n",
       "      <td>1</td>\n",
       "    </tr>\n",
       "    <tr>\n",
       "      <th>num2</th>\n",
       "      <td>3</td>\n",
       "      <td>4</td>\n",
       "      <td>3</td>\n",
       "    </tr>\n",
       "    <tr>\n",
       "      <th>num3</th>\n",
       "      <td>5</td>\n",
       "      <td>6</td>\n",
       "      <td>5</td>\n",
       "    </tr>\n",
       "    <tr>\n",
       "      <th>num4</th>\n",
       "      <td>7</td>\n",
       "      <td>8</td>\n",
       "      <td>7</td>\n",
       "    </tr>\n",
       "    <tr>\n",
       "      <th>num5</th>\n",
       "      <td>11</td>\n",
       "      <td>10</td>\n",
       "      <td>9</td>\n",
       "    </tr>\n",
       "  </tbody>\n",
       "</table>\n",
       "</div>"
      ],
      "text/plain": [
       "      prime  even  odd\n",
       "num1      2     2    1\n",
       "num2      3     4    3\n",
       "num3      5     6    5\n",
       "num4      7     8    7\n",
       "num5     11    10    9"
      ]
     },
     "execution_count": 111,
     "metadata": {},
     "output_type": "execute_result"
    }
   ],
   "source": [
    "# give label of row and column\n",
    "# syntax df.loc[row, column]\n",
    "\n",
    "df.loc['num2']              # if we give only one value, it is treated as row (series)\n",
    "df.loc['num2', 'even']      # element selection (single value)\n",
    "df.loc['num2':'num4']       # slicing row (df)\n",
    "df.loc[:, 'even']           # selecting column even (series)\n",
    "df.loc[:, 'prime':'odd']    # seelcting column by slicing (df)\n"
   ]
  },
  {
   "cell_type": "markdown",
   "id": "bfe09150",
   "metadata": {},
   "source": [
    "what if we need to select multiple rows (not serial wise)"
   ]
  },
  {
   "cell_type": "code",
   "execution_count": 110,
   "id": "60a3dc87",
   "metadata": {},
   "outputs": [
    {
     "data": {
      "text/html": [
       "<div>\n",
       "<style scoped>\n",
       "    .dataframe tbody tr th:only-of-type {\n",
       "        vertical-align: middle;\n",
       "    }\n",
       "\n",
       "    .dataframe tbody tr th {\n",
       "        vertical-align: top;\n",
       "    }\n",
       "\n",
       "    .dataframe thead th {\n",
       "        text-align: right;\n",
       "    }\n",
       "</style>\n",
       "<table border=\"1\" class=\"dataframe\">\n",
       "  <thead>\n",
       "    <tr style=\"text-align: right;\">\n",
       "      <th></th>\n",
       "      <th>real</th>\n",
       "      <th>prime</th>\n",
       "      <th>even</th>\n",
       "      <th>odd</th>\n",
       "    </tr>\n",
       "  </thead>\n",
       "  <tbody>\n",
       "    <tr>\n",
       "      <th>num3</th>\n",
       "      <td>3</td>\n",
       "      <td>5</td>\n",
       "      <td>6</td>\n",
       "      <td>5</td>\n",
       "    </tr>\n",
       "    <tr>\n",
       "      <th>num5</th>\n",
       "      <td>5</td>\n",
       "      <td>11</td>\n",
       "      <td>10</td>\n",
       "      <td>9</td>\n",
       "    </tr>\n",
       "    <tr>\n",
       "      <th>num1</th>\n",
       "      <td>1</td>\n",
       "      <td>2</td>\n",
       "      <td>2</td>\n",
       "      <td>1</td>\n",
       "    </tr>\n",
       "  </tbody>\n",
       "</table>\n",
       "</div>"
      ],
      "text/plain": [
       "      real  prime  even  odd\n",
       "num3     3      5     6    5\n",
       "num5     5     11    10    9\n",
       "num1     1      2     2    1"
      ]
     },
     "execution_count": 110,
     "metadata": {},
     "output_type": "execute_result"
    }
   ],
   "source": [
    "# by providing list of rows-lable\n",
    "df.loc[['num3', 'num5', 'num1']]"
   ]
  },
  {
   "cell_type": "markdown",
   "id": "59b4c8b6",
   "metadata": {},
   "source": [
    "What if we need to select multiple column (not serial wise) (manual columns)"
   ]
  },
  {
   "cell_type": "code",
   "execution_count": 115,
   "id": "847569b7",
   "metadata": {},
   "outputs": [
    {
     "data": {
      "text/html": [
       "<div>\n",
       "<style scoped>\n",
       "    .dataframe tbody tr th:only-of-type {\n",
       "        vertical-align: middle;\n",
       "    }\n",
       "\n",
       "    .dataframe tbody tr th {\n",
       "        vertical-align: top;\n",
       "    }\n",
       "\n",
       "    .dataframe thead th {\n",
       "        text-align: right;\n",
       "    }\n",
       "</style>\n",
       "<table border=\"1\" class=\"dataframe\">\n",
       "  <thead>\n",
       "    <tr style=\"text-align: right;\">\n",
       "      <th></th>\n",
       "      <th>even</th>\n",
       "      <th>prime</th>\n",
       "    </tr>\n",
       "  </thead>\n",
       "  <tbody>\n",
       "    <tr>\n",
       "      <th>num1</th>\n",
       "      <td>2</td>\n",
       "      <td>2</td>\n",
       "    </tr>\n",
       "    <tr>\n",
       "      <th>num2</th>\n",
       "      <td>4</td>\n",
       "      <td>3</td>\n",
       "    </tr>\n",
       "    <tr>\n",
       "      <th>num3</th>\n",
       "      <td>6</td>\n",
       "      <td>5</td>\n",
       "    </tr>\n",
       "    <tr>\n",
       "      <th>num4</th>\n",
       "      <td>8</td>\n",
       "      <td>7</td>\n",
       "    </tr>\n",
       "    <tr>\n",
       "      <th>num5</th>\n",
       "      <td>10</td>\n",
       "      <td>11</td>\n",
       "    </tr>\n",
       "  </tbody>\n",
       "</table>\n",
       "</div>"
      ],
      "text/plain": [
       "      even  prime\n",
       "num1     2      2\n",
       "num2     4      3\n",
       "num3     6      5\n",
       "num4     8      7\n",
       "num5    10     11"
      ]
     },
     "execution_count": 115,
     "metadata": {},
     "output_type": "execute_result"
    }
   ],
   "source": [
    "df.loc[:, ['even', 'prime']]\n",
    "# df[['even', 'prime']]"
   ]
  },
  {
   "cell_type": "markdown",
   "id": "89a42135",
   "metadata": {},
   "source": [
    "Boolean indexing"
   ]
  },
  {
   "cell_type": "code",
   "execution_count": 120,
   "id": "c9a32001",
   "metadata": {},
   "outputs": [
    {
     "data": {
      "text/html": [
       "<div>\n",
       "<style scoped>\n",
       "    .dataframe tbody tr th:only-of-type {\n",
       "        vertical-align: middle;\n",
       "    }\n",
       "\n",
       "    .dataframe tbody tr th {\n",
       "        vertical-align: top;\n",
       "    }\n",
       "\n",
       "    .dataframe thead th {\n",
       "        text-align: right;\n",
       "    }\n",
       "</style>\n",
       "<table border=\"1\" class=\"dataframe\">\n",
       "  <thead>\n",
       "    <tr style=\"text-align: right;\">\n",
       "      <th></th>\n",
       "      <th>real</th>\n",
       "      <th>prime</th>\n",
       "      <th>even</th>\n",
       "      <th>odd</th>\n",
       "    </tr>\n",
       "  </thead>\n",
       "  <tbody>\n",
       "    <tr>\n",
       "      <th>num4</th>\n",
       "      <td>4</td>\n",
       "      <td>7</td>\n",
       "      <td>8</td>\n",
       "      <td>7</td>\n",
       "    </tr>\n",
       "    <tr>\n",
       "      <th>num5</th>\n",
       "      <td>5</td>\n",
       "      <td>11</td>\n",
       "      <td>10</td>\n",
       "      <td>9</td>\n",
       "    </tr>\n",
       "  </tbody>\n",
       "</table>\n",
       "</div>"
      ],
      "text/plain": [
       "      real  prime  even  odd\n",
       "num4     4      7     8    7\n",
       "num5     5     11    10    9"
      ]
     },
     "execution_count": 120,
     "metadata": {},
     "output_type": "execute_result"
    }
   ],
   "source": [
    "df.loc[df['prime']>5]\n",
    "# df.loc[[False, False, False, True, True]]"
   ]
  },
  {
   "cell_type": "markdown",
   "id": "490d35bf",
   "metadata": {},
   "source": [
    "### .iloc: Access by integer position\n",
    "1. give actual positional index. and rest of thing is same as .loc\n",
    "2. slicing: last value is not included (as list, array slicing)"
   ]
  },
  {
   "cell_type": "code",
   "execution_count": 125,
   "id": "f8bd6a90",
   "metadata": {},
   "outputs": [
    {
     "name": "stdout",
     "output_type": "stream",
     "text": [
      "2\n",
      "num1    2\n",
      "num2    4\n",
      "num3    6\n",
      "Name: even, dtype: int64\n",
      "      even  odd\n",
      "num1     2    1\n",
      "num2     4    3\n",
      "num3     6    5\n"
     ]
    }
   ],
   "source": [
    "# syntax: df.iloc[row, column]\n",
    "print(df.iloc[0, 2])\n",
    "print(df.iloc[0:3, 2])\n",
    "print(df.iloc[0:3, 2:4])"
   ]
  },
  {
   "cell_type": "code",
   "execution_count": 130,
   "id": "d7e7a347",
   "metadata": {},
   "outputs": [
    {
     "data": {
      "text/html": [
       "<div>\n",
       "<style scoped>\n",
       "    .dataframe tbody tr th:only-of-type {\n",
       "        vertical-align: middle;\n",
       "    }\n",
       "\n",
       "    .dataframe tbody tr th {\n",
       "        vertical-align: top;\n",
       "    }\n",
       "\n",
       "    .dataframe thead th {\n",
       "        text-align: right;\n",
       "    }\n",
       "</style>\n",
       "<table border=\"1\" class=\"dataframe\">\n",
       "  <thead>\n",
       "    <tr style=\"text-align: right;\">\n",
       "      <th></th>\n",
       "      <th>real</th>\n",
       "      <th>prime</th>\n",
       "      <th>even</th>\n",
       "      <th>odd</th>\n",
       "    </tr>\n",
       "  </thead>\n",
       "  <tbody>\n",
       "    <tr>\n",
       "      <th>num1</th>\n",
       "      <td>1</td>\n",
       "      <td>2</td>\n",
       "      <td>2</td>\n",
       "      <td>1</td>\n",
       "    </tr>\n",
       "    <tr>\n",
       "      <th>num2</th>\n",
       "      <td>2</td>\n",
       "      <td>3</td>\n",
       "      <td>4</td>\n",
       "      <td>3</td>\n",
       "    </tr>\n",
       "    <tr>\n",
       "      <th>num3</th>\n",
       "      <td>3</td>\n",
       "      <td>5</td>\n",
       "      <td>6</td>\n",
       "      <td>5</td>\n",
       "    </tr>\n",
       "    <tr>\n",
       "      <th>num4</th>\n",
       "      <td>4</td>\n",
       "      <td>7</td>\n",
       "      <td>8</td>\n",
       "      <td>7</td>\n",
       "    </tr>\n",
       "    <tr>\n",
       "      <th>num5</th>\n",
       "      <td>5</td>\n",
       "      <td>11</td>\n",
       "      <td>10</td>\n",
       "      <td>9</td>\n",
       "    </tr>\n",
       "  </tbody>\n",
       "</table>\n",
       "</div>"
      ],
      "text/plain": [
       "      real  prime  even  odd\n",
       "num1     1      2     2    1\n",
       "num2     2      3     4    3\n",
       "num3     3      5     6    5\n",
       "num4     4      7     8    7\n",
       "num5     5     11    10    9"
      ]
     },
     "execution_count": 130,
     "metadata": {},
     "output_type": "execute_result"
    }
   ],
   "source": [
    "df.columns\n",
    "df.index\n",
    "df.head()\n",
    "df.tail()"
   ]
  },
  {
   "cell_type": "markdown",
   "id": "7087d13f",
   "metadata": {},
   "source": [
    "### type of data to expect on return\n",
    "Rule of thumb:\n",
    "1. One column → Series\n",
    "2. One row → Series\n",
    "3. Multiple of anything → DataFrame\n",
    "4. Wrap names in a list [] to force a DataFrame."
   ]
  }
 ],
 "metadata": {
  "kernelspec": {
   "display_name": "venv",
   "language": "python",
   "name": "python3"
  },
  "language_info": {
   "codemirror_mode": {
    "name": "ipython",
    "version": 3
   },
   "file_extension": ".py",
   "mimetype": "text/x-python",
   "name": "python",
   "nbconvert_exporter": "python",
   "pygments_lexer": "ipython3",
   "version": "3.13.2"
  }
 },
 "nbformat": 4,
 "nbformat_minor": 5
}
