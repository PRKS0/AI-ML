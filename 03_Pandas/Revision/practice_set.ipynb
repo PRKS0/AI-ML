{
 "cells": [
  {
   "cell_type": "code",
   "execution_count": 3,
   "id": "c8d24791",
   "metadata": {},
   "outputs": [],
   "source": [
    "import numpy as np\n",
    "import pandas as pd"
   ]
  },
  {
   "cell_type": "markdown",
   "id": "f7896f64",
   "metadata": {},
   "source": [
    "1. Providing list as data in dataframe"
   ]
  },
  {
   "cell_type": "code",
   "execution_count": null,
   "id": "80b84cf3",
   "metadata": {},
   "outputs": [],
   "source": [
    "list = [[1, 2, 3, 4, 5], [2, 3, 5, 7, 11], [2, 4, 6, 8, 10], [1, 3, 5, 7, 9]]\n",
    "col_name = ['Real', 'prime', 'even', 'odd']\n",
    "index = ['num1', 'num2', 'num3', 'num4', 'num5'] \n",
    "\n",
    "# now, you have to create a dataframe which have column mention above"
   ]
  },
  {
   "cell_type": "markdown",
   "id": "1ed3ee76",
   "metadata": {},
   "source": [
    "2. Selecting cell of dataframe"
   ]
  },
  {
   "cell_type": "code",
   "execution_count": null,
   "id": "14d5d716",
   "metadata": {},
   "outputs": [],
   "source": [
    "# how do we select the 3rd value of even number"
   ]
  },
  {
   "cell_type": "markdown",
   "id": "26caba96",
   "metadata": {},
   "source": [
    "3. Selecting element of array"
   ]
  },
  {
   "cell_type": "code",
   "execution_count": 4,
   "id": "e1899363",
   "metadata": {},
   "outputs": [],
   "source": [
    "# select the second value of third row\n",
    "arr = np.array([[1,2,3], [4,5,6], [7,8,9], [10, 11, 12]])"
   ]
  },
  {
   "cell_type": "markdown",
   "id": "e01b5438",
   "metadata": {},
   "source": [
    "4. Selecting multiple rows "
   ]
  },
  {
   "cell_type": "code",
   "execution_count": null,
   "id": "9da0635b",
   "metadata": {},
   "outputs": [],
   "source": [
    "# select the rows: num3, num4, num1"
   ]
  },
  {
   "cell_type": "markdown",
   "id": "20c8103b",
   "metadata": {},
   "source": [
    "5. Selecting multiple columns"
   ]
  },
  {
   "cell_type": "code",
   "execution_count": 5,
   "id": "016a1e0b",
   "metadata": {},
   "outputs": [],
   "source": [
    "# select the columns: even, prime, odd (manual columns)"
   ]
  },
  {
   "cell_type": "markdown",
   "id": "f90dcf48",
   "metadata": {},
   "source": [
    "6. Accessing value using boolean"
   ]
  },
  {
   "cell_type": "code",
   "execution_count": 13,
   "id": "b4d22be3",
   "metadata": {},
   "outputs": [
    {
     "name": "stdout",
     "output_type": "stream",
     "text": [
      "      name  Age  Percentage Active\n",
      "0  Prakash   18          75    yes\n",
      "1  Darshan   16          70    yes\n",
      "2  Nishant   18          90     no\n",
      "3  Sandesh   20          45    yes\n",
      "4  Krishna   20          99    yes\n",
      "5  Nirajan   18          77    yes\n",
      "6   Nimraj   19          80     no\n",
      "7   Nirmal   19          35    yes\n",
      "8       BP   20          19    yes\n"
     ]
    }
   ],
   "source": [
    "student = {\n",
    "    'name': ['Prakash', 'Darshan', 'Nishant', 'Sandesh', 'Krishna', 'Nirajan', 'Nimraj', 'Nirmal', 'BP'],\n",
    "    'Age': [18, 16, 18, 20, 20, 18, 19, 19, 20],\n",
    "    'Percentage': [75, 70, 90, 45, 99, 77, 80, 35, 19],\n",
    "    'Active': ['yes', 'yes', 'no', 'yes', 'yes', 'yes', 'no', 'yes', 'yes']\n",
    "}\n",
    "\n",
    "df = pd.DataFrame(student)\n",
    "print(df)\n",
    "\n",
    "# print data of student who are not active\n",
    "# print data of student who are both fail(below40) and aged 18+.\n"
   ]
  }
 ],
 "metadata": {
  "kernelspec": {
   "display_name": "venv",
   "language": "python",
   "name": "python3"
  },
  "language_info": {
   "codemirror_mode": {
    "name": "ipython",
    "version": 3
   },
   "file_extension": ".py",
   "mimetype": "text/x-python",
   "name": "python",
   "nbconvert_exporter": "python",
   "pygments_lexer": "ipython3",
   "version": "3.13.2"
  }
 },
 "nbformat": 4,
 "nbformat_minor": 5
}
