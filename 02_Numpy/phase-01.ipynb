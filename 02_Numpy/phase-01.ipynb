{
 "cells": [
  {
   "cell_type": "markdown",
   "id": "f709d945",
   "metadata": {},
   "source": [
    "## Numpy array and basics "
   ]
  },
  {
   "cell_type": "code",
   "execution_count": 2,
   "id": "9744eab2",
   "metadata": {},
   "outputs": [],
   "source": [
    "import numpy as np"
   ]
  },
  {
   "cell_type": "markdown",
   "id": "ecda65fd",
   "metadata": {},
   "source": [
    "### Creating array from list"
   ]
  },
  {
   "cell_type": "code",
   "execution_count": 3,
   "id": "d594cf22",
   "metadata": {},
   "outputs": [
    {
     "name": "stdout",
     "output_type": "stream",
     "text": [
      "[1 2 3 4 5]\n",
      "[[1 2 3]\n",
      " [1 2 3]]\n"
     ]
    }
   ],
   "source": [
    "arr_1d = np.array([1,2,3,4,5])\n",
    "print(arr_1d)\n",
    "\n",
    "arr_2d = np.array([[1,2,3], [1,2,3]])\n",
    "print(arr_2d)"
   ]
  },
  {
   "cell_type": "markdown",
   "id": "6fa76583",
   "metadata": {},
   "source": [
    "### Python list vs numpy array"
   ]
  },
  {
   "cell_type": "code",
   "execution_count": 4,
   "id": "22de3a37",
   "metadata": {},
   "outputs": [
    {
     "name": "stdout",
     "output_type": "stream",
     "text": [
      "Python list multiplication:  [1, 2, 3, 4, 5, 1, 2, 3, 4, 5]\n",
      "Numpy array multiplication:  [ 2  4  6  8 10]\n",
      "List operation time:  0.06796789169311523\n",
      "np array opreation time:  0.0070459842681884766\n"
     ]
    }
   ],
   "source": [
    "\n",
    "py_list = [1, 2, 3, 4, 5]\n",
    "print(\"Python list multiplication: \", py_list * 2)\n",
    "\n",
    "\n",
    "np_array = np.array([1, 2, 3, 4, 5])\n",
    "print(\"Numpy array multiplication: \", np_array * 2)\n",
    "\n",
    "\n",
    "import time\n",
    "start = time.time()\n",
    "py_list = [i*2 for i in range(1000000)]\n",
    "print(\"List operation time: \",time.time() - start)\n",
    "\n",
    "start = time.time()\n",
    "np_array = np.arange(1000000) * 2\n",
    "print(\"np array opreation time: \",time.time() - start)"
   ]
  },
  {
   "cell_type": "markdown",
   "id": "9e479f31",
   "metadata": {},
   "source": [
    "### Creating array from scratch"
   ]
  },
  {
   "cell_type": "code",
   "execution_count": 5,
   "id": "343dfdde",
   "metadata": {},
   "outputs": [
    {
     "name": "stdout",
     "output_type": "stream",
     "text": [
      "zeros: \n",
      " [[0. 0. 0. 0.]\n",
      " [0. 0. 0. 0.]\n",
      " [0. 0. 0. 0.]]\n"
     ]
    }
   ],
   "source": [
    "zeros = np.zeros((3,4))\n",
    "print(\"zeros: \\n\", zeros)"
   ]
  },
  {
   "cell_type": "markdown",
   "id": "d4cae982",
   "metadata": {},
   "source": [
    "### Creating array using different numpy functions"
   ]
  },
  {
   "cell_type": "code",
   "execution_count": 3,
   "id": "2562ab4d",
   "metadata": {},
   "outputs": [
    {
     "name": "stdout",
     "output_type": "stream",
     "text": [
      "zero array: \n",
      " [[0. 0. 0.]\n",
      " [0. 0. 0.]]\n",
      "ones array: \n",
      " [[1. 1. 1.]\n",
      " [1. 1. 1.]\n",
      " [1. 1. 1.]]\n",
      "full array: \n",
      " [[8 8 8 8]\n",
      " [8 8 8 8]\n",
      " [8 8 8 8]\n",
      " [8 8 8 8]]\n",
      "random array: \n",
      " [[0.85362863 0.7007489  0.21488691]\n",
      " [0.81838908 0.07614121 0.74272417]]\n",
      "sequence array: \n",
      " [ 0  1  2  3  4  5  6  7  8  9 10]\n"
     ]
    }
   ],
   "source": [
    "zeros = np.zeros((2,3))\n",
    "print(\"zero array: \\n\", zeros)\n",
    "\n",
    "ones = np.ones((3,3))\n",
    "print(\"ones array: \\n\", ones)\n",
    "\n",
    "full = np.full((4,4), 8)\n",
    "print(\"full array: \\n\", full)\n",
    "\n",
    "random = np.random.random((2,3))\n",
    "print(\"random array: \\n\", random)\n",
    "\n",
    "sequence = np.arange(0, 11, 1) #start stop steps\n",
    "print(\"sequence array: \\n\", sequence)"
   ]
  },
  {
   "cell_type": "markdown",
   "id": "050f1e4b",
   "metadata": {},
   "source": [
    "### Vector, Matrix and Tensor"
   ]
  },
  {
   "cell_type": "code",
   "execution_count": null,
   "id": "4b013865",
   "metadata": {},
   "outputs": [
    {
     "name": "stdout",
     "output_type": "stream",
     "text": [
      "Vector:  [1 2 3]\n",
      "Matrix:  [[1 2 3]\n",
      " [4 5 6]]\n",
      "Tensor:  [[[1 2]\n",
      "  [3 4]]\n",
      "\n",
      " [[5 6]\n",
      "  [7 8]]]\n"
     ]
    }
   ],
   "source": [
    "vector = np.array([1, 2, 3])            # 1-D array: vector\n",
    "print(\"Vector: \", vector)\n",
    "\n",
    "matrix = np.array([[1, 2, 3],           # 2-D array: matrix\n",
    "                   [4, 5, 6]])\n",
    "print(\"Matrix: \", matrix)\n",
    "\n",
    "tensor = np.array([[[1, 2], [3, 4]],    # multy-D array: tensor\n",
    "                   [[5, 6], [7, 8]]])\n",
    "print(\"Tensor: \", tensor)"
   ]
  },
  {
   "cell_type": "markdown",
   "id": "e99238ed",
   "metadata": {},
   "source": [
    "### Array Properties"
   ]
  },
  {
   "cell_type": "code",
   "execution_count": 7,
   "id": "de27f042",
   "metadata": {},
   "outputs": [
    {
     "name": "stdout",
     "output_type": "stream",
     "text": [
      "Shape  (2, 3)\n",
      "Dimension  2\n",
      "Size  6\n",
      "DType  int64\n"
     ]
    }
   ],
   "source": [
    "arr = np.array([[1, 2, 3], \n",
    "                [4, 5, 6]])\n",
    "print(\"Shape \", arr.shape)\n",
    "print(\"Dimension \", arr.ndim)\n",
    "print(\"Size \", arr.size)\n",
    "print(\"DType \", arr.dtype)"
   ]
  },
  {
   "cell_type": "markdown",
   "id": "7623fb9e",
   "metadata": {},
   "source": [
    "### Reshaping Array"
   ]
  },
  {
   "cell_type": "code",
   "execution_count": null,
   "id": "24b49a36",
   "metadata": {},
   "outputs": [
    {
     "name": "stdout",
     "output_type": "stream",
     "text": [
      " Original array:  [ 0  1  2  3  4  5  6  7  8  9 10 11]\n",
      "\n",
      " Reshaped array:  [[ 0  1  2  3]\n",
      " [ 4  5  6  7]\n",
      " [ 8  9 10 11]]\n",
      "\n",
      " Flattened Array:  [ 0  1  2  3  4  5  6  7  8  9 10 11]\n",
      "\n",
      " Raveled array:  [ 0  1  2  3  4  5  6  7  8  9 10 11]\n",
      "\n",
      " Transposed array:  [[ 0  4  8]\n",
      " [ 1  5  9]\n",
      " [ 2  6 10]\n",
      " [ 3  7 11]]\n"
     ]
    }
   ],
   "source": [
    "arr = np.arange(12)\n",
    "print(\" Original array: \", arr)\n",
    "\n",
    "reshaped = arr.reshape((3, 4))  # give size of array inside ()\n",
    "print(\"\\n Reshaped array: \", reshaped)\n",
    "\n",
    "# make new copy of flattened version \n",
    "flattened = reshaped.flatten()\n",
    "print(\"\\n Flattened Array: \",flattened)\n",
    "\n",
    "# doesn't make new copy, just viewing original array in flattened version. if we change something in raveled, may change in original array (only difference in memory level)\n",
    "raveled = reshaped.ravel()\n",
    "print(\"\\n Raveled array: \", raveled)\n",
    "\n",
    "transpose = reshaped.T\n",
    "print(\"\\n Transposed array: \", transpose)\n",
    "\n",
    "# provide duplicate value as it is\n",
    "# random_arr = np.array([[1,4,5],  \n",
    "#                        [1,2,3]])\n",
    "# toFlatten = random_arr.flatten()   \n",
    "# print(toFlatten)\n"
   ]
  },
  {
   "cell_type": "code",
   "execution_count": null,
   "id": "c4759dce",
   "metadata": {},
   "outputs": [],
   "source": []
  }
 ],
 "metadata": {
  "kernelspec": {
   "display_name": "venv",
   "language": "python",
   "name": "python3"
  },
  "language_info": {
   "codemirror_mode": {
    "name": "ipython",
    "version": 3
   },
   "file_extension": ".py",
   "mimetype": "text/x-python",
   "name": "python",
   "nbconvert_exporter": "python",
   "pygments_lexer": "ipython3",
   "version": "3.13.2"
  }
 },
 "nbformat": 4,
 "nbformat_minor": 5
}
