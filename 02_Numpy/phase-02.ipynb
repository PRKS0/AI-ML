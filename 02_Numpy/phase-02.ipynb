{
 "cells": [
  {
   "cell_type": "markdown",
   "id": "5a29d929",
   "metadata": {},
   "source": [
    "## Numpy Array Operation"
   ]
  },
  {
   "cell_type": "code",
   "execution_count": 2,
   "id": "53f55079",
   "metadata": {},
   "outputs": [],
   "source": [
    "import numpy as np"
   ]
  },
  {
   "cell_type": "markdown",
   "id": "a1dd0745",
   "metadata": {},
   "source": [
    "### Basic slicing "
   ]
  },
  {
   "cell_type": "code",
   "execution_count": 3,
   "id": "0ee49c7b",
   "metadata": {},
   "outputs": [
    {
     "name": "stdout",
     "output_type": "stream",
     "text": [
      "[1 2 3 4 5 6 7 8 9]\n",
      "4\n",
      "with steps:  [2 5 8]\n",
      "negative index:  8\n",
      "\n"
     ]
    }
   ],
   "source": [
    "arr = np.arange(1, 10)\n",
    "print(arr)\n",
    "\n",
    "print(arr[3])\n",
    "print(\"with steps: \", arr[1:9:3])\n",
    "print(\"negative index: \", arr[-2])\n",
    "print()"
   ]
  },
  {
   "cell_type": "code",
   "execution_count": 10,
   "id": "ec4241f7",
   "metadata": {},
   "outputs": [
    {
     "name": "stdout",
     "output_type": "stream",
     "text": [
      "first column:  [1 4 7]\n"
     ]
    }
   ],
   "source": [
    "arr = np.array([[1, 2, 3],\n",
    "                [4, 5, 6],\n",
    "                [7, 8, 9]])\n",
    "print(\"first column: \", arr[:, 0])"
   ]
  },
  {
   "cell_type": "markdown",
   "id": "4b147fd8",
   "metadata": {},
   "source": [
    "### Sorting Array"
   ]
  },
  {
   "cell_type": "code",
   "execution_count": 15,
   "id": "669e99e7",
   "metadata": {},
   "outputs": [
    {
     "name": "stdout",
     "output_type": "stream",
     "text": [
      "sorted array:  [1 1 2 2 3 4 5 6 7 8]\n",
      "column sorted:  [[1 3]\n",
      " [2 3]\n",
      " [5 4]]\n",
      "row sorted:  [[1 3]\n",
      " [2 4]\n",
      " [3 5]]\n",
      "sort 2nd column: [3 3 4]\n"
     ]
    }
   ],
   "source": [
    "unsorted = np.array([4, 3, 5, 2, 1, 1, 2, 8, 7, 6])\n",
    "print(\"sorted array: \", np.sort(unsorted))\n",
    "\n",
    "unsorted_2d = np.array([[1, 3],\n",
    "                        [2,4],\n",
    "                        [5,3]])\n",
    "print(\"column sorted: \", np.sort(unsorted_2d, axis=0))\n",
    "print(\"row sorted: \", np.sort(unsorted_2d, 1))\n",
    "print(\"sort 2nd column:\", np.sort(unsorted_2d[:, 1]))"
   ]
  },
  {
   "cell_type": "markdown",
   "id": "5bff53fe",
   "metadata": {},
   "source": [
    "### Filter"
   ]
  },
  {
   "cell_type": "code",
   "execution_count": 24,
   "id": "d2ee8a8a",
   "metadata": {},
   "outputs": [
    {
     "name": "stdout",
     "output_type": "stream",
     "text": [
      "only even:  [ 2  4  6  8 10]\n",
      "numbers greater than 4:  [ 5  6  7  8  9 10]\n",
      "value of mask:  [False False False False  True  True  True  True  True  True]\n"
     ]
    }
   ],
   "source": [
    "numbers = np.array([1, 2, 3, 4, 5, 6, 7, 8, 9, 10])\n",
    "even_num = numbers[numbers%2 == 0]\n",
    "print(\"only even: \", even_num)\n",
    "\n",
    "# filter with mask\n",
    "mask = numbers > 4\n",
    "print(\"numbers greater than 4: \", numbers[mask])\n",
    "print(\"value of mask: \",mask)"
   ]
  },
  {
   "cell_type": "markdown",
   "id": "f0e2aea7",
   "metadata": {},
   "source": [
    "### Fancy Indexing vs np.where()"
   ]
  },
  {
   "cell_type": "code",
   "execution_count": null,
   "id": "ac25f3ea",
   "metadata": {},
   "outputs": [
    {
     "name": "stdout",
     "output_type": "stream",
     "text": [
      "[1 4 6 7]\n",
      "store indices:  (array([4, 5, 6, 7, 8, 9]),)\n",
      "[ 5  6  7  8  9 10]\n",
      "[ 1  2  3  4  5 12 14 16 18 20]\n"
     ]
    }
   ],
   "source": [
    "numbers = np.array([1, 2, 3, 4, 5, 6, 7, 8, 9, 10])\n",
    "indices = [0, 3, 5, 6]\n",
    "print(numbers[indices])\n",
    "\n",
    "where_result = np.where(numbers > 4) # where this condition meets, store their indexes/indices\n",
    "print(\"store indices: \", where_result)\n",
    "print(numbers[where_result]) # those indices can be used here to take elements from array\n",
    "\n",
    "modified_array = np.where(numbers > 5, numbers*2, numbers) # but when we give 3 argument to \"np.where\", it gives new modified array according to conditon\n",
    "#       For each element: (condition, x, y)\n",
    "#       If condition is True, return x,\n",
    "#       Else return y\n",
    "print(modified_array)\n",
    "\n",
    "# if (numbers > 5):\n",
    "#     numbers *2\n",
    "# else:\n",
    "#     numbers\n",
    "\n",
    "# Usage | Behavior\n",
    "# np.where(condition) | returns indices where condition is True \n",
    "# np.where(condition, value_if_true, value_if_false) | returns a new array applying your logic"
   ]
  },
  {
   "cell_type": "markdown",
   "id": "4a74ac07",
   "metadata": {},
   "source": [
    "### Adding and removing data"
   ]
  },
  {
   "cell_type": "code",
   "execution_count": 63,
   "id": "8464abce",
   "metadata": {},
   "outputs": [
    {
     "name": "stdout",
     "output_type": "stream",
     "text": [
      "[5 7 9]\n",
      "combined_array:  [1 2 3 4 5 6]\n",
      "Original array:  [[1 4 9]\n",
      " [2 4 6]]\n",
      "New array:  [[1 4 9]\n",
      " [2 4 6]\n",
      " [2 3 5]]\n",
      "Array with new Column:  [[  1   4   9 100]\n",
      " [  2   4   6 200]]\n",
      "array after deletation:  [ 2  3  4  5  6  7  8  9 10]\n",
      "array after deletation:  [ 2  4  6  8 10]\n"
     ]
    }
   ],
   "source": [
    "arr1 = np.array([1, 2, 3])\n",
    "arr2 = np.array([4, 5, 6])\n",
    "\n",
    "print(arr1 + arr2)  # add the elements \n",
    "combined_arr = np.concatenate((arr1, arr2)) # should pass arrays inside tuple\n",
    "print(\"combined_array: \",combined_arr)  \n",
    "\n",
    "# adding row\n",
    "original_arr = np.array([[1, 4, 9], [2, 4, 6]])\n",
    "new_row = np.array([2, 3, 5])  # number of column should match with original array\n",
    "with_new_row = np.vstack((original_arr, new_row))\n",
    "\n",
    "print(\"Original array: \",original_arr)\n",
    "print(\"New array: \",with_new_row)\n",
    "\n",
    "# adding new column\n",
    "new_col = np.array([[100], [200]])  # number of row should match with original array\n",
    "with_new_col = np.hstack((original_arr, new_col))\n",
    "print(\"Array with new Column: \",with_new_col)\n",
    "\n",
    "\n",
    "# deleting element\n",
    "arr = np.array([1, 2, 3, 4, 5, 6, 7, 8, 9, 10])\n",
    "deleted1 = np.delete(arr, 0)\n",
    "deleted2 = np.delete(arr, slice(0, 10, 2))\n",
    "print(\"array after deletation: \",deleted1)\n",
    "print(\"array after deletation: \",deleted2)"
   ]
  },
  {
   "cell_type": "markdown",
   "id": "84340e21",
   "metadata": {},
   "source": [
    "### Compatibility test"
   ]
  },
  {
   "cell_type": "code",
   "execution_count": 46,
   "id": "da69d4b6",
   "metadata": {},
   "outputs": [
    {
     "name": "stdout",
     "output_type": "stream",
     "text": [
      "Compatibility shape: True\n",
      "Compatibility shape: False\n"
     ]
    }
   ],
   "source": [
    "a = np.array([1, 2, 3, 4])\n",
    "b = np.array([5, 6, 7, 8])\n",
    "c = np.array([9, 0, 1])\n",
    "\n",
    "print(\"Compatibility shape:\", a.shape == b.shape)\n",
    "print(\"Compatibility shape:\", a.shape == c.shape)"
   ]
  },
  {
   "cell_type": "code",
   "execution_count": null,
   "id": "d1d52b63",
   "metadata": {},
   "outputs": [],
   "source": []
  }
 ],
 "metadata": {
  "kernelspec": {
   "display_name": "venv",
   "language": "python",
   "name": "python3"
  },
  "language_info": {
   "codemirror_mode": {
    "name": "ipython",
    "version": 3
   },
   "file_extension": ".py",
   "mimetype": "text/x-python",
   "name": "python",
   "nbconvert_exporter": "python",
   "pygments_lexer": "ipython3",
   "version": "3.13.2"
  }
 },
 "nbformat": 4,
 "nbformat_minor": 5
}
