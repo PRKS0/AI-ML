{
 "cells": [
  {
   "cell_type": "code",
   "execution_count": 1,
   "id": "2c140005",
   "metadata": {},
   "outputs": [],
   "source": [
    "import numpy as np"
   ]
  },
  {
   "cell_type": "code",
   "execution_count": null,
   "id": "55d511ae",
   "metadata": {},
   "outputs": [
    {
     "data": {
      "text/plain": [
       "[[2, 4, 6, 8], [10, 12, 14, 16], [18, 20, 22, 24]]"
      ]
     },
     "execution_count": 2,
     "metadata": {},
     "output_type": "execute_result"
    }
   ],
   "source": [
    "# multiply element of list by 2, result list should have same structure\n",
    "list1 = [[1, 2, 3, 4], [5, 6, 7, 8], [9, 10 , 11, 12]]\n"
   ]
  },
  {
   "cell_type": "code",
   "execution_count": null,
   "id": "2855822d",
   "metadata": {},
   "outputs": [],
   "source": [
    "# generate array of shape 2x3, using random integer between 1-10. "
   ]
  },
  {
   "cell_type": "code",
   "execution_count": null,
   "id": "3da2a051",
   "metadata": {},
   "outputs": [],
   "source": [
    "# find some basic property of array. shape, size, dimension"
   ]
  },
  {
   "cell_type": "code",
   "execution_count": null,
   "id": "462288ea",
   "metadata": {},
   "outputs": [],
   "source": [
    "# find the number of rows of any array. "
   ]
  },
  {
   "cell_type": "code",
   "execution_count": null,
   "id": "7149e445",
   "metadata": {},
   "outputs": [],
   "source": [
    "# add 2 array and merge/concat 2 array"
   ]
  },
  {
   "cell_type": "code",
   "execution_count": null,
   "id": "3b9fbb0f",
   "metadata": {},
   "outputs": [],
   "source": [
    "# add new column in 2D array. opt: 3D\n",
    "arr = np.array([[1, 2, 3], [4, 5 ,6], [7, 8, 9]])\n",
    "new_col = [10, 11, 12]\n",
    "\n",
    "# count number of total elements in new array"
   ]
  }
 ],
 "metadata": {
  "kernelspec": {
   "display_name": "venv",
   "language": "python",
   "name": "python3"
  },
  "language_info": {
   "codemirror_mode": {
    "name": "ipython",
    "version": 3
   },
   "file_extension": ".py",
   "mimetype": "text/x-python",
   "name": "python",
   "nbconvert_exporter": "python",
   "pygments_lexer": "ipython3",
   "version": "3.13.2"
  }
 },
 "nbformat": 4,
 "nbformat_minor": 5
}
