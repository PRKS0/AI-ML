{
 "cells": [
  {
   "cell_type": "code",
   "execution_count": 2,
   "id": "4d54a9d9",
   "metadata": {},
   "outputs": [],
   "source": [
    "import numpy as np"
   ]
  },
  {
   "cell_type": "code",
   "execution_count": 3,
   "id": "8e981ea0",
   "metadata": {},
   "outputs": [
    {
     "name": "stdout",
     "output_type": "stream",
     "text": [
      "[[ 1  2  3  4  5]\n",
      " [ 6  7  8  9 10]\n",
      " [11 12 13 14 15]]\n"
     ]
    },
    {
     "data": {
      "text/plain": [
       "array([[ 3,  4,  5],\n",
       "       [ 1,  1,  2],\n",
       "       [ 2,  7,  8],\n",
       "       [ 6, 10, 12]])"
      ]
     },
     "execution_count": 3,
     "metadata": {},
     "output_type": "execute_result"
    }
   ],
   "source": [
    "# slicing, selecting row, selecting column\n",
    "arr = np.array([[1, 2, 3, 4, 5], [6, 7, 8, 9, 10], [11, 12, 13 ,14,15]])\n",
    "print(arr)\n",
    "\n",
    "unsorted = np.array([4, 3, 5, 2, 1, 1, 2, 8, 7, 6, 10, 12])\n",
    "np.sort(unsorted)\n",
    "reshaped = unsorted.reshape(4, 3)\n",
    "reshaped_sorted = np.sort(reshaped, axis=1)\n",
    "reshaped_sorted\n"
   ]
  },
  {
   "cell_type": "code",
   "execution_count": 30,
   "id": "cb27d784",
   "metadata": {},
   "outputs": [
    {
     "data": {
      "text/plain": [
       "array([[1., 1.],\n",
       "       [1., 1.],\n",
       "       [1., 1.],\n",
       "       [1., 1.]])"
      ]
     },
     "execution_count": 30,
     "metadata": {},
     "output_type": "execute_result"
    }
   ],
   "source": [
    "ones = np.ones((2,2))\n",
    "ones2 = np.ones((2, 2))\n",
    "new = np.concat((ones, ones2))\n",
    "new2 = np.concatenate((ones, ones2))\n",
    "new"
   ]
  }
 ],
 "metadata": {
  "kernelspec": {
   "display_name": "venv",
   "language": "python",
   "name": "python3"
  },
  "language_info": {
   "codemirror_mode": {
    "name": "ipython",
    "version": 3
   },
   "file_extension": ".py",
   "mimetype": "text/x-python",
   "name": "python",
   "nbconvert_exporter": "python",
   "pygments_lexer": "ipython3",
   "version": "3.13.2"
  }
 },
 "nbformat": 4,
 "nbformat_minor": 5
}
