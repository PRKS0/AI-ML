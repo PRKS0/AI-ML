{
 "cells": [
  {
   "cell_type": "code",
   "execution_count": 1,
   "id": "9cba94af",
   "metadata": {},
   "outputs": [],
   "source": [
    "import numpy as np"
   ]
  },
  {
   "cell_type": "code",
   "execution_count": null,
   "id": "3de86364",
   "metadata": {},
   "outputs": [
    {
     "data": {
      "text/plain": [
       "[[2, 4, 6, 8], [10, 12, 14, 16], [18, 20, 22, 24]]"
      ]
     },
     "execution_count": 11,
     "metadata": {},
     "output_type": "execute_result"
    }
   ],
   "source": [
    "\n",
    "list1 = [[1, 2, 3, 4], [5, 6, 7, 8], [9, 10 , 11, 12]]\n",
    "\n",
    "result = []\n",
    "for i in list1:\n",
    "    temp = []\n",
    "    for j in i:\n",
    "        temp.append(j*2)\n",
    "    result.append(temp)\n",
    "result"
   ]
  },
  {
   "cell_type": "markdown",
   "id": "97f5b6fa",
   "metadata": {},
   "source": [
    "Random in python and numpy"
   ]
  },
  {
   "cell_type": "code",
   "execution_count": null,
   "id": "cb700b6d",
   "metadata": {},
   "outputs": [
    {
     "data": {
      "text/plain": [
       "[71, 64, 60, 73, 67]"
      ]
     },
     "execution_count": 8,
     "metadata": {},
     "output_type": "execute_result"
    }
   ],
   "source": [
    "# random in python\n",
    "import random\n",
    "\n",
    "# 1. Random integer (whole number)\n",
    "num = random.randint(1, 10)             # both included\n",
    "\n",
    "# 2. Random float (decimal number)\n",
    "num1 = random.random()                  # float between 0 and 1(excluded)\n",
    "\n",
    "# 3. Random choice from a list\n",
    "num_list = [1, 2, 3, 4, 5]\n",
    "num2 = random.choice(num_list)\n",
    "\n",
    "# 4. Multiple random numer\n",
    "num3 = random.sample(range(55, 76), 5)  # 5 random number between 55 and 76"
   ]
  },
  {
   "cell_type": "code",
   "execution_count": null,
   "id": "71d68c17",
   "metadata": {},
   "outputs": [
    {
     "data": {
      "text/plain": [
       "array([3, 2, 5])"
      ]
     },
     "execution_count": 33,
     "metadata": {},
     "output_type": "execute_result"
    }
   ],
   "source": [
    "# random in numpy\n",
    "\n",
    "# random float between 0 and 1(excluded)\n",
    "np_num = np.random.rand()           # generate random float number between 0 and 1\n",
    "rand_arr = np.random.rand(3,2)      # 3x2 matrix with random float elements\n",
    "\n",
    "\n",
    "# random integer\n",
    "num = np.random.randint(1, 10)          # 10 excluded\n",
    "arr = np.random.randint(1,10, (3,2))    # 3x2 array with random element from 1 to 9\n",
    "\n",
    "# random float in a range\n",
    "arr = np.random.uniform(5, 10, size=(2,3))      # generate array of 2x3 with random float between 5-10 (both included)\n",
    "\n",
    "# random choice from array\n",
    "arr = np.array([1, 2, 3, 4, 5])\n",
    "np.random.choice(arr, size=2, replace=False)    # 2 random picks from arr.s\n"
   ]
  }
 ],
 "metadata": {
  "kernelspec": {
   "display_name": "venv",
   "language": "python",
   "name": "python3"
  },
  "language_info": {
   "codemirror_mode": {
    "name": "ipython",
    "version": 3
   },
   "file_extension": ".py",
   "mimetype": "text/x-python",
   "name": "python",
   "nbconvert_exporter": "python",
   "pygments_lexer": "ipython3",
   "version": "3.13.2"
  }
 },
 "nbformat": 4,
 "nbformat_minor": 5
}
