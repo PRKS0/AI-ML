{
 "cells": [
  {
   "cell_type": "code",
   "execution_count": null,
   "id": "1812ed35",
   "metadata": {},
   "outputs": [],
   "source": [
    "# load statement "
   ]
  },
  {
   "cell_type": "code",
   "execution_count": null,
   "id": "3ae177a7",
   "metadata": {},
   "outputs": [],
   "source": [
    "# find the max Dr./Cr. and min Dr./Cr. "
   ]
  },
  {
   "cell_type": "code",
   "execution_count": null,
   "id": "5f75729b",
   "metadata": {},
   "outputs": [],
   "source": [
    "# find the top 10 person/shop on the basis of number of transaction"
   ]
  },
  {
   "cell_type": "code",
   "execution_count": null,
   "id": "f21bbf22",
   "metadata": {},
   "outputs": [],
   "source": [
    "# total paid to talako pasal: key_word = ['family store', 'ninglasaini', 'ramesh bohara', 'ninglashaini']\n",
    "# dataframe format: Description, Count, Total Amount"
   ]
  },
  {
   "cell_type": "code",
   "execution_count": null,
   "id": "11b3467a",
   "metadata": {},
   "outputs": [],
   "source": [
    "# make new data frame/table for pasal except talako pasal. Table caontains Description/Name, Count/number of payes, Amount\n",
    "# keyword: [store, khaja ghar, restaurant, bhojanalaya, cottage, traders, hotel, bhojanal]"
   ]
  },
  {
   "cell_type": "code",
   "execution_count": null,
   "id": "f260deb3",
   "metadata": {},
   "outputs": [],
   "source": [
    "# combine talako pasal and other pasal. only one row for talako pasal. Description: talako pasal, Count: sum of counts, Amount: sum of amounts\n",
    "# total topup and Paid for Nepal Telecom Data Pack Service"
   ]
  },
  {
   "cell_type": "code",
   "execution_count": null,
   "id": "32fc7552",
   "metadata": {},
   "outputs": [],
   "source": [
    "# Calculate number of payes to talako pasal on time range: morning, afternoon, evening, night"
   ]
  }
 ],
 "metadata": {
  "language_info": {
   "name": "python"
  }
 },
 "nbformat": 4,
 "nbformat_minor": 5
}
