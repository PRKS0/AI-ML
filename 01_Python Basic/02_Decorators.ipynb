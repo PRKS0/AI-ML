{
 "cells": [
  {
   "cell_type": "code",
   "execution_count": 3,
   "id": "91a6dfc5",
   "metadata": {},
   "outputs": [
    {
     "name": "stdout",
     "output_type": "stream",
     "text": [
      "kirtipur\n",
      "('9768258587', '01-987654', '9867287384')\n",
      "{'delivery_charge': 150, 'special_message': 'deliver in the evening'}\n"
     ]
    }
   ],
   "source": [
    "def delivery(location, *contact, **optional):\n",
    "    print(location)\n",
    "    print(contact)\n",
    "    print(optional)\n",
    "\n",
    "delivery('kirtipur', '9768258587', '01-987654', '9867287384', delivery_charge=150, special_message='deliver in the evening')\n"
   ]
  },
  {
   "cell_type": "code",
   "execution_count": 9,
   "id": "e2678c99",
   "metadata": {},
   "outputs": [
    {
     "name": "stdout",
     "output_type": "stream",
     "text": [
      "morning\n",
      "prakash\n",
      "good day\n"
     ]
    }
   ],
   "source": [
    "def greeter(fx):\n",
    "    def mfx(naam):\n",
    "        print('morning')\n",
    "        fx(naam)\n",
    "        print('good day')\n",
    "    return mfx\n",
    "\n",
    "\n",
    "@greeter\n",
    "def name(naam):\n",
    "    print(naam)\n",
    "\n",
    "name('prakash')"
   ]
  }
 ],
 "metadata": {
  "kernelspec": {
   "display_name": "venv",
   "language": "python",
   "name": "python3"
  },
  "language_info": {
   "codemirror_mode": {
    "name": "ipython",
    "version": 3
   },
   "file_extension": ".py",
   "mimetype": "text/x-python",
   "name": "python",
   "nbconvert_exporter": "python",
   "pygments_lexer": "ipython3",
   "version": "3.13.2"
  }
 },
 "nbformat": 4,
 "nbformat_minor": 5
}
